{
 "cells": [
  {
   "cell_type": "code",
   "execution_count": null,
   "metadata": {},
   "outputs": [
    {
     "name": "stdout",
     "output_type": "stream",
     "text": [
      "Solution using DFS:\n",
      "(0, 0)\n",
      "(0, 3)\n",
      "(3, 0)\n",
      "(3, 3)\n",
      "(4, 2)\n"
     ]
    },
    {
     "data": {
      "text/plain": [
       "True"
      ]
     },
     "execution_count": 2,
     "metadata": {},
     "output_type": "execute_result"
    }
   ],
   "source": [
    "\n",
    "def waterJugDFS(capacity1, capacity2, goal):\n",
    "    stack = [(0, 0)]\n",
    "    visited = set()\n",
    "    parent = {}\n",
    "    \n",
    "    while stack:\n",
    "        jug1, jug2 = stack.pop()\n",
    "        visited.add((jug1, jug2))\n",
    "        \n",
    "        if jug1 == goal or jug2 == goal:\n",
    "            path = []\n",
    "            while (jug1, jug2) in parent:\n",
    "                path.append((jug1, jug2))\n",
    "                jug1, jug2 = parent[(jug1, jug2)]\n",
    "            path.append((0, 0))\n",
    "            path.reverse()\n",
    "            print(\"Solution using DFS:\")\n",
    "            for action in path:\n",
    "                print(action)\n",
    "            return True\n",
    "\n",
    "        rules = [\n",
    "            (capacity1, jug2, \"Fill Jug 1\"),\n",
    "            (jug1, capacity2, \"Fill Jug 2\"),\n",
    "            (0, jug2, \"Empty Jug 1\"),\n",
    "            (jug1, 0, \"Empty Jug 2\"),\n",
    "            (jug1 - min(jug1, capacity2 - jug2), jug2 + min(jug1, capacity2 - jug2), \"Pour Jug 1 -> Jug 2\"),\n",
    "            (jug1 + min(jug2, capacity1 - jug1), jug2 - min(jug2, capacity1 - jug1), \"Pour Jug 2 -> Jug 1\")\n",
    "        ]\n",
    "        \n",
    "        for new_jug1, new_jug2, action in rules:\n",
    "            if (new_jug1, new_jug2) not in visited:\n",
    "                stack.append((new_jug1, new_jug2))\n",
    "                parent[(new_jug1, new_jug2)] = (jug1, jug2)\n",
    "    print(\"no solution using DFS\")\n",
    "    return False\n",
    "\n",
    "jug1Capacity = 4\n",
    "jug2Capacity = 3\n",
    "target = 2          \n",
    "waterJugDFS(jug1Capacity, jug2Capacity, target)\n"
   ]
  },
  {
   "cell_type": "code",
   "execution_count": null,
   "metadata": {},
   "outputs": [],
   "source": []
  }
 ],
 "metadata": {
  "kernelspec": {
   "display_name": "base",
   "language": "python",
   "name": "python3"
  },
  "language_info": {
   "codemirror_mode": {
    "name": "ipython",
    "version": 3
   },
   "file_extension": ".py",
   "mimetype": "text/x-python",
   "name": "python",
   "nbconvert_exporter": "python",
   "pygments_lexer": "ipython3",
   "version": "3.11.5"
  }
 },
 "nbformat": 4,
 "nbformat_minor": 2
}
