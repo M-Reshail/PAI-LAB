{
 "cells": [
  {
   "cell_type": "code",
   "execution_count": null,
   "id": "4e996eea",
   "metadata": {
    "execution": {
     "iopub.execute_input": "2025-03-03T17:40:54.263776Z",
     "iopub.status.busy": "2025-03-03T17:40:54.263444Z",
     "iopub.status.idle": "2025-03-03T17:41:00.103935Z",
     "shell.execute_reply": "2025-03-03T17:41:00.103045Z"
    },
    "papermill": {
     "duration": 5.860387,
     "end_time": "2025-03-03T17:41:00.105578",
     "exception": false,
     "start_time": "2025-03-03T17:40:54.245191",
     "status": "completed"
    },
    "scrolled": true,
    "tags": []
   },
   "outputs": [],
   "source": [
    "import pandas as pd\n",
    "import numpy as np\n",
    "from scipy import stats\n",
    "from sklearn.metrics import mean_squared_error\n",
    "\n",
    "import matplotlib.pyplot as plt\n",
    "import seaborn as sns\n",
    "\n",
    "from sklearn.model_selection import train_test_split, GridSearchCV, cross_val_score\n",
    "from sklearn.compose import make_column_transformer, ColumnTransformer\n",
    "from sklearn.pipeline import Pipeline, make_pipeline\n",
    "from sklearn.impute import SimpleImputer\n",
    "from sklearn.preprocessing import OrdinalEncoder, StandardScaler, OneHotEncoder\n",
    "\n",
    "from sklearn.linear_model import LinearRegression, Ridge\n",
    "from sklearn.ensemble import RandomForestRegressor, GradientBoostingRegressor, VotingRegressor, StackingRegressor\n",
    "from xgboost import XGBRegressor\n",
    "from catboost import CatBoostRegressor\n"
   ]
  },
  {
   "cell_type": "code",
   "execution_count": null,
   "id": "ebc8ad36",
   "metadata": {
    "execution": {
     "iopub.execute_input": "2025-03-03T17:41:00.140950Z",
     "iopub.status.busy": "2025-03-03T17:41:00.140460Z",
     "iopub.status.idle": "2025-03-03T17:41:03.419092Z",
     "shell.execute_reply": "2025-03-03T17:41:03.417905Z"
    },
    "papermill": {
     "duration": 3.298195,
     "end_time": "2025-03-03T17:41:03.420663",
     "exception": false,
     "start_time": "2025-03-03T17:41:00.122468",
     "status": "completed"
    },
    "tags": []
   },
   "outputs": [],
   "source": [
    "import lightgbm as lgb"
   ]
  },
  {
   "cell_type": "code",
   "execution_count": null,
   "id": "59425ae5",
   "metadata": {
    "execution": {
     "iopub.execute_input": "2025-03-03T17:41:03.452679Z",
     "iopub.status.busy": "2025-03-03T17:41:03.452045Z",
     "iopub.status.idle": "2025-03-03T17:41:03.456188Z",
     "shell.execute_reply": "2025-03-03T17:41:03.455371Z"
    },
    "papermill": {
     "duration": 0.021508,
     "end_time": "2025-03-03T17:41:03.457700",
     "exception": false,
     "start_time": "2025-03-03T17:41:03.436192",
     "status": "completed"
    },
    "tags": []
   },
   "outputs": [],
   "source": [
    "import warnings\n",
    "warnings.filterwarnings('ignore')"
   ]
  },
  {
   "cell_type": "code",
   "execution_count": null,
   "id": "097179ec",
   "metadata": {
    "execution": {
     "iopub.execute_input": "2025-03-03T17:41:03.490794Z",
     "iopub.status.busy": "2025-03-03T17:41:03.490464Z",
     "iopub.status.idle": "2025-03-03T17:41:03.543002Z",
     "shell.execute_reply": "2025-03-03T17:41:03.541642Z"
    },
    "papermill": {
     "duration": 0.071248,
     "end_time": "2025-03-03T17:41:03.544752",
     "exception": false,
     "start_time": "2025-03-03T17:41:03.473504",
     "status": "completed"
    },
    "tags": []
   },
   "outputs": [],
   "source": [
    "train_df = pd.read_csv('/kaggle/input/house-prices-advanced-regression-techniques/train.csv')\n",
    "test_df = pd.read_csv('/kaggle/input/house-prices-advanced-regression-techniques/test.csv')"
   ]
  },
  {
   "cell_type": "code",
   "execution_count": null,
   "id": "28e13f31",
   "metadata": {
    "execution": {
     "iopub.execute_input": "2025-03-03T17:41:03.578121Z",
     "iopub.status.busy": "2025-03-03T17:41:03.577845Z",
     "iopub.status.idle": "2025-03-03T17:41:03.584646Z",
     "shell.execute_reply": "2025-03-03T17:41:03.583413Z"
    },
    "papermill": {
     "duration": 0.024391,
     "end_time": "2025-03-03T17:41:03.585916",
     "exception": false,
     "start_time": "2025-03-03T17:41:03.561525",
     "status": "completed"
    },
    "tags": []
   },
   "outputs": [],
   "source": [
    "train_df.columns"
   ]
  },
  {
   "cell_type": "code",
   "execution_count": null,
   "id": "f44d6b8a",
   "metadata": {
    "execution": {
     "iopub.execute_input": "2025-03-03T17:41:03.618425Z",
     "iopub.status.busy": "2025-03-03T17:41:03.618021Z",
     "iopub.status.idle": "2025-03-03T17:41:03.707037Z",
     "shell.execute_reply": "2025-03-03T17:41:03.706325Z"
    },
    "papermill": {
     "duration": 0.106413,
     "end_time": "2025-03-03T17:41:03.708110",
     "exception": false,
     "start_time": "2025-03-03T17:41:03.601697",
     "status": "completed"
    },
    "tags": []
   },
   "outputs": [],
   "source": [
    "train_df.describe()"
   ]
  },
  {
   "cell_type": "code",
   "execution_count": null,
   "id": "8ba2f975",
   "metadata": {
    "execution": {
     "iopub.execute_input": "2025-03-03T17:41:03.742226Z",
     "iopub.status.busy": "2025-03-03T17:41:03.741909Z",
     "iopub.status.idle": "2025-03-03T17:41:03.764539Z",
     "shell.execute_reply": "2025-03-03T17:41:03.763533Z"
    },
    "papermill": {
     "duration": 0.041379,
     "end_time": "2025-03-03T17:41:03.765901",
     "exception": false,
     "start_time": "2025-03-03T17:41:03.724522",
     "status": "completed"
    },
    "tags": []
   },
   "outputs": [],
   "source": [
    "train_df.head()"
   ]
  },
  {
   "cell_type": "code",
   "execution_count": null,
   "id": "12de467b",
   "metadata": {
    "execution": {
     "iopub.execute_input": "2025-03-03T17:41:03.800049Z",
     "iopub.status.busy": "2025-03-03T17:41:03.799702Z",
     "iopub.status.idle": "2025-03-03T17:41:03.806851Z",
     "shell.execute_reply": "2025-03-03T17:41:03.805693Z"
    },
    "papermill": {
     "duration": 0.025707,
     "end_time": "2025-03-03T17:41:03.808253",
     "exception": false,
     "start_time": "2025-03-03T17:41:03.782546",
     "status": "completed"
    },
    "tags": []
   },
   "outputs": [],
   "source": [
    "train_df.dtypes[train_df.dtypes != 'object']\n"
   ]
  },
  {
   "cell_type": "code",
   "execution_count": null,
   "id": "01b2049e",
   "metadata": {
    "execution": {
     "iopub.execute_input": "2025-03-03T17:41:03.842618Z",
     "iopub.status.busy": "2025-03-03T17:41:03.842272Z",
     "iopub.status.idle": "2025-03-03T17:41:04.164390Z",
     "shell.execute_reply": "2025-03-03T17:41:04.163375Z"
    },
    "papermill": {
     "duration": 0.34097,
     "end_time": "2025-03-03T17:41:04.165759",
     "exception": false,
     "start_time": "2025-03-03T17:41:03.824789",
     "status": "completed"
    },
    "tags": []
   },
   "outputs": [],
   "source": [
    "plt.scatter(x='MSSubClass', y = 'SalePrice', data =train_df)"
   ]
  },
  {
   "cell_type": "code",
   "execution_count": null,
   "id": "9634e29c",
   "metadata": {
    "execution": {
     "iopub.execute_input": "2025-03-03T17:41:04.201198Z",
     "iopub.status.busy": "2025-03-03T17:41:04.200855Z",
     "iopub.status.idle": "2025-03-03T17:41:04.351230Z",
     "shell.execute_reply": "2025-03-03T17:41:04.350348Z"
    },
    "papermill": {
     "duration": 0.169817,
     "end_time": "2025-03-03T17:41:04.352450",
     "exception": false,
     "start_time": "2025-03-03T17:41:04.182633",
     "status": "completed"
    },
    "tags": []
   },
   "outputs": [],
   "source": [
    "plt.scatter(x='LotFrontage', y = 'SalePrice', data =train_df)"
   ]
  },
  {
   "cell_type": "code",
   "execution_count": null,
   "id": "63b13011",
   "metadata": {
    "execution": {
     "iopub.execute_input": "2025-03-03T17:41:04.388766Z",
     "iopub.status.busy": "2025-03-03T17:41:04.388372Z",
     "iopub.status.idle": "2025-03-03T17:41:04.415429Z",
     "shell.execute_reply": "2025-03-03T17:41:04.414278Z"
    },
    "papermill": {
     "duration": 0.046802,
     "end_time": "2025-03-03T17:41:04.416780",
     "exception": false,
     "start_time": "2025-03-03T17:41:04.369978",
     "status": "completed"
    },
    "tags": []
   },
   "outputs": [],
   "source": [
    "train_df.query('LotFrontage > 300')\n"
   ]
  },
  {
   "cell_type": "code",
   "execution_count": null,
   "id": "5b876b0d",
   "metadata": {
    "execution": {
     "iopub.execute_input": "2025-03-03T17:41:04.507026Z",
     "iopub.status.busy": "2025-03-03T17:41:04.506703Z",
     "iopub.status.idle": "2025-03-03T17:41:04.651179Z",
     "shell.execute_reply": "2025-03-03T17:41:04.650080Z"
    },
    "papermill": {
     "duration": 0.164839,
     "end_time": "2025-03-03T17:41:04.652515",
     "exception": false,
     "start_time": "2025-03-03T17:41:04.487676",
     "status": "completed"
    },
    "tags": []
   },
   "outputs": [],
   "source": [
    "plt.scatter(x='LotArea', y = 'SalePrice', data =train_df)"
   ]
  },
  {
   "cell_type": "code",
   "execution_count": null,
   "id": "b86ffc35",
   "metadata": {
    "execution": {
     "iopub.execute_input": "2025-03-03T17:41:04.690826Z",
     "iopub.status.busy": "2025-03-03T17:41:04.690470Z",
     "iopub.status.idle": "2025-03-03T17:41:04.714068Z",
     "shell.execute_reply": "2025-03-03T17:41:04.713384Z"
    },
    "papermill": {
     "duration": 0.044477,
     "end_time": "2025-03-03T17:41:04.715323",
     "exception": false,
     "start_time": "2025-03-03T17:41:04.670846",
     "status": "completed"
    },
    "tags": []
   },
   "outputs": [],
   "source": [
    "train_df.query('LotArea > 100000')\n"
   ]
  },
  {
   "cell_type": "code",
   "execution_count": null,
   "id": "5e46b6df",
   "metadata": {
    "execution": {
     "iopub.execute_input": "2025-03-03T17:41:04.753646Z",
     "iopub.status.busy": "2025-03-03T17:41:04.753364Z",
     "iopub.status.idle": "2025-03-03T17:41:04.894364Z",
     "shell.execute_reply": "2025-03-03T17:41:04.892971Z"
    },
    "papermill": {
     "duration": 0.162227,
     "end_time": "2025-03-03T17:41:04.896214",
     "exception": false,
     "start_time": "2025-03-03T17:41:04.733987",
     "status": "completed"
    },
    "tags": []
   },
   "outputs": [],
   "source": [
    "plt.scatter(x='OverallQual', y = 'SalePrice', data =train_df)"
   ]
  },
  {
   "cell_type": "code",
   "execution_count": null,
   "id": "b73a7162",
   "metadata": {
    "execution": {
     "iopub.execute_input": "2025-03-03T17:41:04.936103Z",
     "iopub.status.busy": "2025-03-03T17:41:04.935800Z",
     "iopub.status.idle": "2025-03-03T17:41:04.965295Z",
     "shell.execute_reply": "2025-03-03T17:41:04.964100Z"
    },
    "papermill": {
     "duration": 0.051393,
     "end_time": "2025-03-03T17:41:04.967060",
     "exception": false,
     "start_time": "2025-03-03T17:41:04.915667",
     "status": "completed"
    },
    "tags": []
   },
   "outputs": [],
   "source": [
    "train_df.query('OverallQual == 10')\n"
   ]
  },
  {
   "cell_type": "code",
   "execution_count": null,
   "id": "90c08516",
   "metadata": {
    "execution": {
     "iopub.execute_input": "2025-03-03T17:41:05.013600Z",
     "iopub.status.busy": "2025-03-03T17:41:05.013160Z",
     "iopub.status.idle": "2025-03-03T17:41:05.174049Z",
     "shell.execute_reply": "2025-03-03T17:41:05.172841Z"
    },
    "papermill": {
     "duration": 0.188963,
     "end_time": "2025-03-03T17:41:05.175795",
     "exception": false,
     "start_time": "2025-03-03T17:41:04.986832",
     "status": "completed"
    },
    "tags": []
   },
   "outputs": [],
   "source": [
    "plt.scatter(x='OverallCond', y = 'SalePrice', data =train_df)"
   ]
  },
  {
   "cell_type": "code",
   "execution_count": null,
   "id": "a14ff0fe",
   "metadata": {
    "execution": {
     "iopub.execute_input": "2025-03-03T17:41:05.222323Z",
     "iopub.status.busy": "2025-03-03T17:41:05.221962Z",
     "iopub.status.idle": "2025-03-03T17:41:05.250415Z",
     "shell.execute_reply": "2025-03-03T17:41:05.249093Z"
    },
    "papermill": {
     "duration": 0.055123,
     "end_time": "2025-03-03T17:41:05.252205",
     "exception": false,
     "start_time": "2025-03-03T17:41:05.197082",
     "status": "completed"
    },
    "tags": []
   },
   "outputs": [],
   "source": [
    "train_df.query('OverallCond == 2')\n"
   ]
  },
  {
   "cell_type": "code",
   "execution_count": null,
   "id": "91165272",
   "metadata": {
    "execution": {
     "iopub.execute_input": "2025-03-03T17:41:05.294173Z",
     "iopub.status.busy": "2025-03-03T17:41:05.293776Z",
     "iopub.status.idle": "2025-03-03T17:41:05.318471Z",
     "shell.execute_reply": "2025-03-03T17:41:05.317156Z"
    },
    "papermill": {
     "duration": 0.047832,
     "end_time": "2025-03-03T17:41:05.320299",
     "exception": false,
     "start_time": "2025-03-03T17:41:05.272467",
     "status": "completed"
    },
    "tags": []
   },
   "outputs": [],
   "source": [
    "train_df.query('OverallCond == 5 & SalePrice > 700000')\n"
   ]
  },
  {
   "cell_type": "code",
   "execution_count": null,
   "id": "26fd744b",
   "metadata": {
    "execution": {
     "iopub.execute_input": "2025-03-03T17:41:05.365171Z",
     "iopub.status.busy": "2025-03-03T17:41:05.364835Z",
     "iopub.status.idle": "2025-03-03T17:41:05.389395Z",
     "shell.execute_reply": "2025-03-03T17:41:05.388119Z"
    },
    "papermill": {
     "duration": 0.048677,
     "end_time": "2025-03-03T17:41:05.391163",
     "exception": false,
     "start_time": "2025-03-03T17:41:05.342486",
     "status": "completed"
    },
    "tags": []
   },
   "outputs": [],
   "source": [
    "train_df.query('OverallCond == 6 & SalePrice > 700000')\n"
   ]
  },
  {
   "cell_type": "code",
   "execution_count": null,
   "id": "8cd29441",
   "metadata": {
    "execution": {
     "iopub.execute_input": "2025-03-03T17:41:05.434263Z",
     "iopub.status.busy": "2025-03-03T17:41:05.433861Z",
     "iopub.status.idle": "2025-03-03T17:41:05.587845Z",
     "shell.execute_reply": "2025-03-03T17:41:05.586981Z"
    },
    "papermill": {
     "duration": 0.176619,
     "end_time": "2025-03-03T17:41:05.589033",
     "exception": false,
     "start_time": "2025-03-03T17:41:05.412414",
     "status": "completed"
    },
    "tags": []
   },
   "outputs": [],
   "source": [
    "plt.scatter(x='YearBuilt', y = 'SalePrice', data =train_df)"
   ]
  },
  {
   "cell_type": "code",
   "execution_count": null,
   "id": "cff9116d",
   "metadata": {
    "execution": {
     "iopub.execute_input": "2025-03-03T17:41:05.634771Z",
     "iopub.status.busy": "2025-03-03T17:41:05.634431Z",
     "iopub.status.idle": "2025-03-03T17:41:05.658961Z",
     "shell.execute_reply": "2025-03-03T17:41:05.657645Z"
    },
    "papermill": {
     "duration": 0.049674,
     "end_time": "2025-03-03T17:41:05.660938",
     "exception": false,
     "start_time": "2025-03-03T17:41:05.611264",
     "status": "completed"
    },
    "tags": []
   },
   "outputs": [],
   "source": [
    "train_df.query('YearBuilt < 1900 & SalePrice > 400000')\n"
   ]
  },
  {
   "cell_type": "code",
   "execution_count": null,
   "id": "b870002f",
   "metadata": {
    "execution": {
     "iopub.execute_input": "2025-03-03T17:41:05.706334Z",
     "iopub.status.busy": "2025-03-03T17:41:05.705996Z",
     "iopub.status.idle": "2025-03-03T17:41:05.731720Z",
     "shell.execute_reply": "2025-03-03T17:41:05.730656Z"
    },
    "papermill": {
     "duration": 0.050625,
     "end_time": "2025-03-03T17:41:05.733451",
     "exception": false,
     "start_time": "2025-03-03T17:41:05.682826",
     "status": "completed"
    },
    "tags": []
   },
   "outputs": [],
   "source": [
    "train_df.query('YearBuilt & SalePrice > 600000')\n"
   ]
  },
  {
   "cell_type": "code",
   "execution_count": null,
   "id": "2b8bee04",
   "metadata": {
    "execution": {
     "iopub.execute_input": "2025-03-03T17:41:05.777103Z",
     "iopub.status.busy": "2025-03-03T17:41:05.776805Z",
     "iopub.status.idle": "2025-03-03T17:41:05.926785Z",
     "shell.execute_reply": "2025-03-03T17:41:05.925854Z"
    },
    "papermill": {
     "duration": 0.173883,
     "end_time": "2025-03-03T17:41:05.928721",
     "exception": false,
     "start_time": "2025-03-03T17:41:05.754838",
     "status": "completed"
    },
    "tags": []
   },
   "outputs": [],
   "source": [
    "plt.scatter(x='YearRemodAdd', y = 'SalePrice', data =train_df)"
   ]
  },
  {
   "cell_type": "code",
   "execution_count": null,
   "id": "8a2e8317",
   "metadata": {
    "execution": {
     "iopub.execute_input": "2025-03-03T17:41:05.976491Z",
     "iopub.status.busy": "2025-03-03T17:41:05.976125Z",
     "iopub.status.idle": "2025-03-03T17:41:06.005150Z",
     "shell.execute_reply": "2025-03-03T17:41:06.003848Z"
    },
    "papermill": {
     "duration": 0.055353,
     "end_time": "2025-03-03T17:41:06.007743",
     "exception": false,
     "start_time": "2025-03-03T17:41:05.952390",
     "status": "completed"
    },
    "tags": []
   },
   "outputs": [],
   "source": [
    "train_df.query('YearRemodAdd < 1970 & SalePrice > 300000')\n"
   ]
  },
  {
   "cell_type": "code",
   "execution_count": null,
   "id": "1814b396",
   "metadata": {
    "execution": {
     "iopub.execute_input": "2025-03-03T17:41:06.056281Z",
     "iopub.status.busy": "2025-03-03T17:41:06.055885Z",
     "iopub.status.idle": "2025-03-03T17:41:06.212573Z",
     "shell.execute_reply": "2025-03-03T17:41:06.211206Z"
    },
    "papermill": {
     "duration": 0.182209,
     "end_time": "2025-03-03T17:41:06.214052",
     "exception": false,
     "start_time": "2025-03-03T17:41:06.031843",
     "status": "completed"
    },
    "tags": []
   },
   "outputs": [],
   "source": [
    "plt.scatter(x='MasVnrArea', y='SalePrice', data=train_df)"
   ]
  },
  {
   "cell_type": "code",
   "execution_count": null,
   "id": "b2aae8c9",
   "metadata": {
    "execution": {
     "iopub.execute_input": "2025-03-03T17:41:06.264036Z",
     "iopub.status.busy": "2025-03-03T17:41:06.263464Z",
     "iopub.status.idle": "2025-03-03T17:41:06.288029Z",
     "shell.execute_reply": "2025-03-03T17:41:06.286936Z"
    },
    "papermill": {
     "duration": 0.050847,
     "end_time": "2025-03-03T17:41:06.289818",
     "exception": false,
     "start_time": "2025-03-03T17:41:06.238971",
     "status": "completed"
    },
    "tags": []
   },
   "outputs": [],
   "source": [
    "train_df.query('MasVnrArea > 1500')\n"
   ]
  },
  {
   "cell_type": "code",
   "execution_count": null,
   "id": "72f3ec65",
   "metadata": {
    "execution": {
     "iopub.execute_input": "2025-03-03T17:41:06.337761Z",
     "iopub.status.busy": "2025-03-03T17:41:06.337426Z",
     "iopub.status.idle": "2025-03-03T17:41:06.483296Z",
     "shell.execute_reply": "2025-03-03T17:41:06.482197Z"
    },
    "papermill": {
     "duration": 0.172094,
     "end_time": "2025-03-03T17:41:06.485171",
     "exception": false,
     "start_time": "2025-03-03T17:41:06.313077",
     "status": "completed"
    },
    "tags": []
   },
   "outputs": [],
   "source": [
    "plt.scatter(x='BsmtFinSF1', y='SalePrice', data=train_df)"
   ]
  },
  {
   "cell_type": "code",
   "execution_count": null,
   "id": "97a7a3ce",
   "metadata": {
    "execution": {
     "iopub.execute_input": "2025-03-03T17:41:06.539344Z",
     "iopub.status.busy": "2025-03-03T17:41:06.538987Z",
     "iopub.status.idle": "2025-03-03T17:41:06.562498Z",
     "shell.execute_reply": "2025-03-03T17:41:06.561486Z"
    },
    "papermill": {
     "duration": 0.051024,
     "end_time": "2025-03-03T17:41:06.563734",
     "exception": false,
     "start_time": "2025-03-03T17:41:06.512710",
     "status": "completed"
    },
    "tags": []
   },
   "outputs": [],
   "source": [
    "train_df.query('BsmtFinSF1 > 5000')\n"
   ]
  },
  {
   "cell_type": "code",
   "execution_count": null,
   "id": "20057b7e",
   "metadata": {
    "execution": {
     "iopub.execute_input": "2025-03-03T17:41:06.615635Z",
     "iopub.status.busy": "2025-03-03T17:41:06.615313Z",
     "iopub.status.idle": "2025-03-03T17:41:06.771670Z",
     "shell.execute_reply": "2025-03-03T17:41:06.770789Z"
    },
    "papermill": {
     "duration": 0.184051,
     "end_time": "2025-03-03T17:41:06.773143",
     "exception": false,
     "start_time": "2025-03-03T17:41:06.589092",
     "status": "completed"
    },
    "tags": []
   },
   "outputs": [],
   "source": [
    "plt.scatter(x='BsmtFinSF2', y='SalePrice', data=train_df)"
   ]
  },
  {
   "cell_type": "code",
   "execution_count": null,
   "id": "9a767fc5",
   "metadata": {
    "execution": {
     "iopub.execute_input": "2025-03-03T17:41:06.822958Z",
     "iopub.status.busy": "2025-03-03T17:41:06.822640Z",
     "iopub.status.idle": "2025-03-03T17:41:06.846493Z",
     "shell.execute_reply": "2025-03-03T17:41:06.845418Z"
    },
    "papermill": {
     "duration": 0.050436,
     "end_time": "2025-03-03T17:41:06.847782",
     "exception": false,
     "start_time": "2025-03-03T17:41:06.797346",
     "status": "completed"
    },
    "tags": []
   },
   "outputs": [],
   "source": [
    "train_df.query('BsmtFinSF2 > 400 & SalePrice > 500000')\n"
   ]
  },
  {
   "cell_type": "code",
   "execution_count": null,
   "id": "ef2c4aa3",
   "metadata": {
    "execution": {
     "iopub.execute_input": "2025-03-03T17:41:06.898195Z",
     "iopub.status.busy": "2025-03-03T17:41:06.897888Z",
     "iopub.status.idle": "2025-03-03T17:41:06.921705Z",
     "shell.execute_reply": "2025-03-03T17:41:06.920373Z"
    },
    "papermill": {
     "duration": 0.051245,
     "end_time": "2025-03-03T17:41:06.923733",
     "exception": false,
     "start_time": "2025-03-03T17:41:06.872488",
     "status": "completed"
    },
    "tags": []
   },
   "outputs": [],
   "source": [
    "train_df.query('BsmtFinSF2 > 1400')\n"
   ]
  },
  {
   "cell_type": "code",
   "execution_count": null,
   "id": "0d66b2b3",
   "metadata": {
    "execution": {
     "iopub.execute_input": "2025-03-03T17:41:06.977352Z",
     "iopub.status.busy": "2025-03-03T17:41:06.976983Z",
     "iopub.status.idle": "2025-03-03T17:41:07.119945Z",
     "shell.execute_reply": "2025-03-03T17:41:07.119092Z"
    },
    "papermill": {
     "duration": 0.170631,
     "end_time": "2025-03-03T17:41:07.121095",
     "exception": false,
     "start_time": "2025-03-03T17:41:06.950464",
     "status": "completed"
    },
    "tags": []
   },
   "outputs": [],
   "source": [
    "plt.scatter(x='BsmtUnfSF', y='SalePrice', data=train_df)"
   ]
  },
  {
   "cell_type": "code",
   "execution_count": null,
   "id": "3078b692",
   "metadata": {
    "execution": {
     "iopub.execute_input": "2025-03-03T17:41:07.174644Z",
     "iopub.status.busy": "2025-03-03T17:41:07.174339Z",
     "iopub.status.idle": "2025-03-03T17:41:07.326221Z",
     "shell.execute_reply": "2025-03-03T17:41:07.324964Z"
    },
    "papermill": {
     "duration": 0.180404,
     "end_time": "2025-03-03T17:41:07.327952",
     "exception": false,
     "start_time": "2025-03-03T17:41:07.147548",
     "status": "completed"
    },
    "tags": []
   },
   "outputs": [],
   "source": [
    "plt.scatter(x='TotalBsmtSF', y='SalePrice', data=train_df)"
   ]
  },
  {
   "cell_type": "code",
   "execution_count": null,
   "id": "146ea8cb",
   "metadata": {
    "execution": {
     "iopub.execute_input": "2025-03-03T17:41:07.381597Z",
     "iopub.status.busy": "2025-03-03T17:41:07.381316Z",
     "iopub.status.idle": "2025-03-03T17:41:07.404553Z",
     "shell.execute_reply": "2025-03-03T17:41:07.403622Z"
    },
    "papermill": {
     "duration": 0.051585,
     "end_time": "2025-03-03T17:41:07.406021",
     "exception": false,
     "start_time": "2025-03-03T17:41:07.354436",
     "status": "completed"
    },
    "tags": []
   },
   "outputs": [],
   "source": [
    "train_df.query('TotalBsmtSF > 5000')\n"
   ]
  },
  {
   "cell_type": "code",
   "execution_count": null,
   "id": "f15c54e7",
   "metadata": {
    "execution": {
     "iopub.execute_input": "2025-03-03T17:41:07.460108Z",
     "iopub.status.busy": "2025-03-03T17:41:07.459767Z",
     "iopub.status.idle": "2025-03-03T17:41:07.598725Z",
     "shell.execute_reply": "2025-03-03T17:41:07.597726Z"
    },
    "papermill": {
     "duration": 0.168148,
     "end_time": "2025-03-03T17:41:07.600427",
     "exception": false,
     "start_time": "2025-03-03T17:41:07.432279",
     "status": "completed"
    },
    "tags": []
   },
   "outputs": [],
   "source": [
    "plt.scatter(x='1stFlrSF', y='SalePrice', data=train_df)"
   ]
  },
  {
   "cell_type": "code",
   "execution_count": null,
   "id": "64784d4d",
   "metadata": {
    "execution": {
     "iopub.execute_input": "2025-03-03T17:41:07.655469Z",
     "iopub.status.busy": "2025-03-03T17:41:07.655145Z",
     "iopub.status.idle": "2025-03-03T17:41:07.935433Z",
     "shell.execute_reply": "2025-03-03T17:41:07.934446Z"
    },
    "papermill": {
     "duration": 0.309263,
     "end_time": "2025-03-03T17:41:07.937164",
     "exception": false,
     "start_time": "2025-03-03T17:41:07.627901",
     "status": "completed"
    },
    "tags": []
   },
   "outputs": [],
   "source": [
    "plt.scatter(x='2ndFlrSF', y='SalePrice', data=train_df)"
   ]
  },
  {
   "cell_type": "code",
   "execution_count": null,
   "id": "5169a8b4",
   "metadata": {
    "execution": {
     "iopub.execute_input": "2025-03-03T17:41:07.994734Z",
     "iopub.status.busy": "2025-03-03T17:41:07.994394Z",
     "iopub.status.idle": "2025-03-03T17:41:08.148918Z",
     "shell.execute_reply": "2025-03-03T17:41:08.147728Z"
    },
    "papermill": {
     "duration": 0.185003,
     "end_time": "2025-03-03T17:41:08.150809",
     "exception": false,
     "start_time": "2025-03-03T17:41:07.965806",
     "status": "completed"
    },
    "tags": []
   },
   "outputs": [],
   "source": [
    "plt.scatter(x='LowQualFinSF', y='SalePrice', data=train_df)"
   ]
  },
  {
   "cell_type": "code",
   "execution_count": null,
   "id": "a74012b4",
   "metadata": {
    "execution": {
     "iopub.execute_input": "2025-03-03T17:41:08.208036Z",
     "iopub.status.busy": "2025-03-03T17:41:08.207737Z",
     "iopub.status.idle": "2025-03-03T17:41:08.233145Z",
     "shell.execute_reply": "2025-03-03T17:41:08.232296Z"
    },
    "papermill": {
     "duration": 0.056182,
     "end_time": "2025-03-03T17:41:08.235035",
     "exception": false,
     "start_time": "2025-03-03T17:41:08.178853",
     "status": "completed"
    },
    "tags": []
   },
   "outputs": [],
   "source": [
    "train_df.query('LowQualFinSF > 500')\n"
   ]
  },
  {
   "cell_type": "code",
   "execution_count": null,
   "id": "886b4d50",
   "metadata": {
    "execution": {
     "iopub.execute_input": "2025-03-03T17:41:08.294921Z",
     "iopub.status.busy": "2025-03-03T17:41:08.294601Z",
     "iopub.status.idle": "2025-03-03T17:41:08.437681Z",
     "shell.execute_reply": "2025-03-03T17:41:08.436831Z"
    },
    "papermill": {
     "duration": 0.175247,
     "end_time": "2025-03-03T17:41:08.439426",
     "exception": false,
     "start_time": "2025-03-03T17:41:08.264179",
     "status": "completed"
    },
    "tags": []
   },
   "outputs": [],
   "source": [
    "plt.scatter(x='GrLivArea', y='SalePrice', data=train_df)"
   ]
  },
  {
   "cell_type": "code",
   "execution_count": null,
   "id": "bf7f7482",
   "metadata": {
    "execution": {
     "iopub.execute_input": "2025-03-03T17:41:08.496647Z",
     "iopub.status.busy": "2025-03-03T17:41:08.496368Z",
     "iopub.status.idle": "2025-03-03T17:41:08.521038Z",
     "shell.execute_reply": "2025-03-03T17:41:08.520266Z"
    },
    "papermill": {
     "duration": 0.054792,
     "end_time": "2025-03-03T17:41:08.522507",
     "exception": false,
     "start_time": "2025-03-03T17:41:08.467715",
     "status": "completed"
    },
    "tags": []
   },
   "outputs": [],
   "source": [
    "train_df.query('GrLivArea > 4400')\n"
   ]
  },
  {
   "cell_type": "code",
   "execution_count": null,
   "id": "8f962bb0",
   "metadata": {
    "execution": {
     "iopub.execute_input": "2025-03-03T17:41:08.582353Z",
     "iopub.status.busy": "2025-03-03T17:41:08.582027Z",
     "iopub.status.idle": "2025-03-03T17:41:08.728404Z",
     "shell.execute_reply": "2025-03-03T17:41:08.727478Z"
    },
    "papermill": {
     "duration": 0.176595,
     "end_time": "2025-03-03T17:41:08.729623",
     "exception": false,
     "start_time": "2025-03-03T17:41:08.553028",
     "status": "completed"
    },
    "tags": []
   },
   "outputs": [],
   "source": [
    "plt.scatter(x='BsmtFullBath', y='SalePrice', data=train_df)"
   ]
  },
  {
   "cell_type": "code",
   "execution_count": null,
   "id": "b0b49583",
   "metadata": {
    "execution": {
     "iopub.execute_input": "2025-03-03T17:41:08.789725Z",
     "iopub.status.busy": "2025-03-03T17:41:08.789430Z",
     "iopub.status.idle": "2025-03-03T17:41:08.812159Z",
     "shell.execute_reply": "2025-03-03T17:41:08.811408Z"
    },
    "papermill": {
     "duration": 0.054784,
     "end_time": "2025-03-03T17:41:08.813861",
     "exception": false,
     "start_time": "2025-03-03T17:41:08.759077",
     "status": "completed"
    },
    "tags": []
   },
   "outputs": [],
   "source": [
    "train_df.query('BsmtFullBath == 3')\n"
   ]
  },
  {
   "cell_type": "code",
   "execution_count": null,
   "id": "4049070f",
   "metadata": {
    "execution": {
     "iopub.execute_input": "2025-03-03T17:41:08.875305Z",
     "iopub.status.busy": "2025-03-03T17:41:08.874956Z",
     "iopub.status.idle": "2025-03-03T17:41:09.036546Z",
     "shell.execute_reply": "2025-03-03T17:41:09.035529Z"
    },
    "papermill": {
     "duration": 0.19461,
     "end_time": "2025-03-03T17:41:09.037873",
     "exception": false,
     "start_time": "2025-03-03T17:41:08.843263",
     "status": "completed"
    },
    "tags": []
   },
   "outputs": [],
   "source": [
    "plt.scatter(x='BsmtHalfBath', y='SalePrice', data=train_df)"
   ]
  },
  {
   "cell_type": "code",
   "execution_count": null,
   "id": "3d81d5b1",
   "metadata": {
    "execution": {
     "iopub.execute_input": "2025-03-03T17:41:09.098979Z",
     "iopub.status.busy": "2025-03-03T17:41:09.098671Z",
     "iopub.status.idle": "2025-03-03T17:41:09.121733Z",
     "shell.execute_reply": "2025-03-03T17:41:09.120503Z"
    },
    "papermill": {
     "duration": 0.055415,
     "end_time": "2025-03-03T17:41:09.123441",
     "exception": false,
     "start_time": "2025-03-03T17:41:09.068026",
     "status": "completed"
    },
    "tags": []
   },
   "outputs": [],
   "source": [
    "train_df.query('BsmtHalfBath == 2')\n",
    "#598, 955"
   ]
  },
  {
   "cell_type": "code",
   "execution_count": null,
   "id": "2a96bc8d",
   "metadata": {
    "execution": {
     "iopub.execute_input": "2025-03-03T17:41:09.185656Z",
     "iopub.status.busy": "2025-03-03T17:41:09.185361Z",
     "iopub.status.idle": "2025-03-03T17:41:09.350113Z",
     "shell.execute_reply": "2025-03-03T17:41:09.349347Z"
    },
    "papermill": {
     "duration": 0.198474,
     "end_time": "2025-03-03T17:41:09.351442",
     "exception": false,
     "start_time": "2025-03-03T17:41:09.152968",
     "status": "completed"
    },
    "tags": []
   },
   "outputs": [],
   "source": [
    "plt.scatter(x='FullBath', y='SalePrice', data=train_df)"
   ]
  },
  {
   "cell_type": "code",
   "execution_count": null,
   "id": "d6aacadf",
   "metadata": {
    "execution": {
     "iopub.execute_input": "2025-03-03T17:41:09.421393Z",
     "iopub.status.busy": "2025-03-03T17:41:09.421013Z",
     "iopub.status.idle": "2025-03-03T17:41:09.584343Z",
     "shell.execute_reply": "2025-03-03T17:41:09.583075Z"
    },
    "papermill": {
     "duration": 0.197388,
     "end_time": "2025-03-03T17:41:09.586010",
     "exception": false,
     "start_time": "2025-03-03T17:41:09.388622",
     "status": "completed"
    },
    "tags": []
   },
   "outputs": [],
   "source": [
    "plt.scatter(x='HalfBath', y='SalePrice', data=train_df)"
   ]
  },
  {
   "cell_type": "code",
   "execution_count": null,
   "id": "c54c68fa",
   "metadata": {
    "execution": {
     "iopub.execute_input": "2025-03-03T17:41:09.649594Z",
     "iopub.status.busy": "2025-03-03T17:41:09.649259Z",
     "iopub.status.idle": "2025-03-03T17:41:09.800108Z",
     "shell.execute_reply": "2025-03-03T17:41:09.798875Z"
    },
    "papermill": {
     "duration": 0.184537,
     "end_time": "2025-03-03T17:41:09.801851",
     "exception": false,
     "start_time": "2025-03-03T17:41:09.617314",
     "status": "completed"
    },
    "tags": []
   },
   "outputs": [],
   "source": [
    "plt.scatter(x='BedroomAbvGr', y='SalePrice', data=train_df)"
   ]
  },
  {
   "cell_type": "code",
   "execution_count": null,
   "id": "5777d4ea",
   "metadata": {
    "execution": {
     "iopub.execute_input": "2025-03-03T17:41:09.867713Z",
     "iopub.status.busy": "2025-03-03T17:41:09.867411Z",
     "iopub.status.idle": "2025-03-03T17:41:09.892701Z",
     "shell.execute_reply": "2025-03-03T17:41:09.891466Z"
    },
    "papermill": {
     "duration": 0.059724,
     "end_time": "2025-03-03T17:41:09.894361",
     "exception": false,
     "start_time": "2025-03-03T17:41:09.834637",
     "status": "completed"
    },
    "tags": []
   },
   "outputs": [],
   "source": [
    "train_df.query('BedroomAbvGr == 8')\n",
    "#636"
   ]
  },
  {
   "cell_type": "code",
   "execution_count": null,
   "id": "39f49118",
   "metadata": {
    "execution": {
     "iopub.execute_input": "2025-03-03T17:41:09.960176Z",
     "iopub.status.busy": "2025-03-03T17:41:09.959859Z",
     "iopub.status.idle": "2025-03-03T17:41:10.113979Z",
     "shell.execute_reply": "2025-03-03T17:41:10.112816Z"
    },
    "papermill": {
     "duration": 0.189263,
     "end_time": "2025-03-03T17:41:10.115755",
     "exception": false,
     "start_time": "2025-03-03T17:41:09.926492",
     "status": "completed"
    },
    "tags": []
   },
   "outputs": [],
   "source": [
    "plt.scatter(x='KitchenAbvGr', y='SalePrice', data=train_df)"
   ]
  },
  {
   "cell_type": "code",
   "execution_count": null,
   "id": "b6367636",
   "metadata": {
    "execution": {
     "iopub.execute_input": "2025-03-03T17:41:10.184359Z",
     "iopub.status.busy": "2025-03-03T17:41:10.184043Z",
     "iopub.status.idle": "2025-03-03T17:41:10.208013Z",
     "shell.execute_reply": "2025-03-03T17:41:10.206948Z"
    },
    "papermill": {
     "duration": 0.059598,
     "end_time": "2025-03-03T17:41:10.209393",
     "exception": false,
     "start_time": "2025-03-03T17:41:10.149795",
     "status": "completed"
    },
    "tags": []
   },
   "outputs": [],
   "source": [
    "train_df.query('KitchenAbvGr == 3')\n",
    "#49, 810"
   ]
  },
  {
   "cell_type": "code",
   "execution_count": null,
   "id": "84d7a208",
   "metadata": {
    "execution": {
     "iopub.execute_input": "2025-03-03T17:41:10.281938Z",
     "iopub.status.busy": "2025-03-03T17:41:10.281584Z",
     "iopub.status.idle": "2025-03-03T17:41:10.434366Z",
     "shell.execute_reply": "2025-03-03T17:41:10.433066Z"
    },
    "papermill": {
     "duration": 0.192336,
     "end_time": "2025-03-03T17:41:10.435914",
     "exception": false,
     "start_time": "2025-03-03T17:41:10.243578",
     "status": "completed"
    },
    "tags": []
   },
   "outputs": [],
   "source": [
    "plt.scatter(x='TotRmsAbvGrd', y='SalePrice', data=train_df)"
   ]
  },
  {
   "cell_type": "code",
   "execution_count": null,
   "id": "9eb4b2d7",
   "metadata": {
    "execution": {
     "iopub.execute_input": "2025-03-03T17:41:10.503377Z",
     "iopub.status.busy": "2025-03-03T17:41:10.503025Z",
     "iopub.status.idle": "2025-03-03T17:41:10.528504Z",
     "shell.execute_reply": "2025-03-03T17:41:10.527461Z"
    },
    "papermill": {
     "duration": 0.060953,
     "end_time": "2025-03-03T17:41:10.529824",
     "exception": false,
     "start_time": "2025-03-03T17:41:10.468871",
     "status": "completed"
    },
    "tags": []
   },
   "outputs": [],
   "source": [
    "train_df.query('TotRmsAbvGrd == 14')\n",
    "#636"
   ]
  },
  {
   "cell_type": "code",
   "execution_count": null,
   "id": "4e821375",
   "metadata": {
    "execution": {
     "iopub.execute_input": "2025-03-03T17:41:10.599997Z",
     "iopub.status.busy": "2025-03-03T17:41:10.599652Z",
     "iopub.status.idle": "2025-03-03T17:41:10.757063Z",
     "shell.execute_reply": "2025-03-03T17:41:10.755959Z"
    },
    "papermill": {
     "duration": 0.194204,
     "end_time": "2025-03-03T17:41:10.758827",
     "exception": false,
     "start_time": "2025-03-03T17:41:10.564623",
     "status": "completed"
    },
    "tags": []
   },
   "outputs": [],
   "source": [
    "plt.scatter(x='Fireplaces', y='SalePrice', data=train_df)"
   ]
  },
  {
   "cell_type": "code",
   "execution_count": null,
   "id": "c0faf0bb",
   "metadata": {
    "execution": {
     "iopub.execute_input": "2025-03-03T17:41:10.828379Z",
     "iopub.status.busy": "2025-03-03T17:41:10.827948Z",
     "iopub.status.idle": "2025-03-03T17:41:10.976585Z",
     "shell.execute_reply": "2025-03-03T17:41:10.975182Z"
    },
    "papermill": {
     "duration": 0.185218,
     "end_time": "2025-03-03T17:41:10.978022",
     "exception": false,
     "start_time": "2025-03-03T17:41:10.792804",
     "status": "completed"
    },
    "tags": []
   },
   "outputs": [],
   "source": [
    "plt.scatter(x='GarageYrBlt', y='SalePrice', data=train_df)"
   ]
  },
  {
   "cell_type": "code",
   "execution_count": null,
   "id": "f91c5f90",
   "metadata": {
    "execution": {
     "iopub.execute_input": "2025-03-03T17:41:11.050144Z",
     "iopub.status.busy": "2025-03-03T17:41:11.049857Z",
     "iopub.status.idle": "2025-03-03T17:41:11.202454Z",
     "shell.execute_reply": "2025-03-03T17:41:11.201389Z"
    },
    "papermill": {
     "duration": 0.190905,
     "end_time": "2025-03-03T17:41:11.203993",
     "exception": false,
     "start_time": "2025-03-03T17:41:11.013088",
     "status": "completed"
    },
    "tags": []
   },
   "outputs": [],
   "source": [
    "plt.scatter(x='GarageCars', y='SalePrice', data=train_df)"
   ]
  },
  {
   "cell_type": "code",
   "execution_count": null,
   "id": "c0eb61e3",
   "metadata": {
    "execution": {
     "iopub.execute_input": "2025-03-03T17:41:11.277488Z",
     "iopub.status.busy": "2025-03-03T17:41:11.277167Z",
     "iopub.status.idle": "2025-03-03T17:41:11.430714Z",
     "shell.execute_reply": "2025-03-03T17:41:11.429221Z"
    },
    "papermill": {
     "duration": 0.192348,
     "end_time": "2025-03-03T17:41:11.432429",
     "exception": false,
     "start_time": "2025-03-03T17:41:11.240081",
     "status": "completed"
    },
    "tags": []
   },
   "outputs": [],
   "source": [
    "plt.scatter(x='GarageArea', y='SalePrice', data=train_df)"
   ]
  },
  {
   "cell_type": "code",
   "execution_count": null,
   "id": "4823f9e5",
   "metadata": {
    "execution": {
     "iopub.execute_input": "2025-03-03T17:41:11.506157Z",
     "iopub.status.busy": "2025-03-03T17:41:11.505843Z",
     "iopub.status.idle": "2025-03-03T17:41:11.528963Z",
     "shell.execute_reply": "2025-03-03T17:41:11.527995Z"
    },
    "papermill": {
     "duration": 0.061206,
     "end_time": "2025-03-03T17:41:11.530075",
     "exception": false,
     "start_time": "2025-03-03T17:41:11.468869",
     "status": "completed"
    },
    "tags": []
   },
   "outputs": [],
   "source": [
    "train_df.query('GarageArea > 1200')\n",
    "#1062, 1191"
   ]
  },
  {
   "cell_type": "code",
   "execution_count": null,
   "id": "a31762c1",
   "metadata": {
    "execution": {
     "iopub.execute_input": "2025-03-03T17:41:11.605657Z",
     "iopub.status.busy": "2025-03-03T17:41:11.605360Z",
     "iopub.status.idle": "2025-03-03T17:41:11.750947Z",
     "shell.execute_reply": "2025-03-03T17:41:11.749941Z"
    },
    "papermill": {
     "duration": 0.184383,
     "end_time": "2025-03-03T17:41:11.752349",
     "exception": false,
     "start_time": "2025-03-03T17:41:11.567966",
     "status": "completed"
    },
    "tags": []
   },
   "outputs": [],
   "source": [
    "plt.scatter(x='WoodDeckSF', y='SalePrice', data=train_df)"
   ]
  },
  {
   "cell_type": "code",
   "execution_count": null,
   "id": "6fe5c235",
   "metadata": {
    "execution": {
     "iopub.execute_input": "2025-03-03T17:41:11.827850Z",
     "iopub.status.busy": "2025-03-03T17:41:11.827572Z",
     "iopub.status.idle": "2025-03-03T17:41:11.966564Z",
     "shell.execute_reply": "2025-03-03T17:41:11.965574Z"
    },
    "papermill": {
     "duration": 0.178138,
     "end_time": "2025-03-03T17:41:11.967836",
     "exception": false,
     "start_time": "2025-03-03T17:41:11.789698",
     "status": "completed"
    },
    "tags": []
   },
   "outputs": [],
   "source": [
    "plt.scatter(x='OpenPorchSF', y='SalePrice', data=train_df)"
   ]
  },
  {
   "cell_type": "code",
   "execution_count": null,
   "id": "25f7ac17",
   "metadata": {
    "execution": {
     "iopub.execute_input": "2025-03-03T17:41:12.043321Z",
     "iopub.status.busy": "2025-03-03T17:41:12.042963Z",
     "iopub.status.idle": "2025-03-03T17:41:12.068385Z",
     "shell.execute_reply": "2025-03-03T17:41:12.067583Z"
    },
    "papermill": {
     "duration": 0.063739,
     "end_time": "2025-03-03T17:41:12.069618",
     "exception": false,
     "start_time": "2025-03-03T17:41:12.005879",
     "status": "completed"
    },
    "tags": []
   },
   "outputs": [],
   "source": [
    "train_df.query('OpenPorchSF > 500')\n",
    "#496"
   ]
  },
  {
   "cell_type": "code",
   "execution_count": null,
   "id": "4c162615",
   "metadata": {
    "execution": {
     "iopub.execute_input": "2025-03-03T17:41:12.146835Z",
     "iopub.status.busy": "2025-03-03T17:41:12.146466Z",
     "iopub.status.idle": "2025-03-03T17:41:12.293993Z",
     "shell.execute_reply": "2025-03-03T17:41:12.292674Z"
    },
    "papermill": {
     "duration": 0.18804,
     "end_time": "2025-03-03T17:41:12.295622",
     "exception": false,
     "start_time": "2025-03-03T17:41:12.107582",
     "status": "completed"
    },
    "tags": []
   },
   "outputs": [],
   "source": [
    "plt.scatter(x='EnclosedPorch', y='SalePrice', data=train_df)"
   ]
  },
  {
   "cell_type": "code",
   "execution_count": null,
   "id": "411a3a7c",
   "metadata": {
    "execution": {
     "iopub.execute_input": "2025-03-03T17:41:12.371311Z",
     "iopub.status.busy": "2025-03-03T17:41:12.370954Z",
     "iopub.status.idle": "2025-03-03T17:41:12.394713Z",
     "shell.execute_reply": "2025-03-03T17:41:12.393606Z"
    },
    "papermill": {
     "duration": 0.062915,
     "end_time": "2025-03-03T17:41:12.396360",
     "exception": false,
     "start_time": "2025-03-03T17:41:12.333445",
     "status": "completed"
    },
    "tags": []
   },
   "outputs": [],
   "source": [
    "train_df.query('EnclosedPorch > 500')\n",
    "#198"
   ]
  },
  {
   "cell_type": "code",
   "execution_count": null,
   "id": "c0b9bf4e",
   "metadata": {
    "execution": {
     "iopub.execute_input": "2025-03-03T17:41:12.473456Z",
     "iopub.status.busy": "2025-03-03T17:41:12.473105Z",
     "iopub.status.idle": "2025-03-03T17:41:12.620558Z",
     "shell.execute_reply": "2025-03-03T17:41:12.619103Z"
    },
    "papermill": {
     "duration": 0.187714,
     "end_time": "2025-03-03T17:41:12.622268",
     "exception": false,
     "start_time": "2025-03-03T17:41:12.434554",
     "status": "completed"
    },
    "tags": []
   },
   "outputs": [],
   "source": [
    "plt.scatter(x='3SsnPorch', y='SalePrice', data=train_df)"
   ]
  },
  {
   "cell_type": "code",
   "execution_count": null,
   "id": "43007802",
   "metadata": {
    "execution": {
     "iopub.execute_input": "2025-03-03T17:41:12.701375Z",
     "iopub.status.busy": "2025-03-03T17:41:12.700983Z",
     "iopub.status.idle": "2025-03-03T17:41:12.847682Z",
     "shell.execute_reply": "2025-03-03T17:41:12.846484Z"
    },
    "papermill": {
     "duration": 0.187599,
     "end_time": "2025-03-03T17:41:12.849135",
     "exception": false,
     "start_time": "2025-03-03T17:41:12.661536",
     "status": "completed"
    },
    "tags": []
   },
   "outputs": [],
   "source": [
    "plt.scatter(x='ScreenPorch', y='SalePrice', data=train_df)\n"
   ]
  },
  {
   "cell_type": "code",
   "execution_count": null,
   "id": "742b508b",
   "metadata": {
    "execution": {
     "iopub.execute_input": "2025-03-03T17:41:12.928871Z",
     "iopub.status.busy": "2025-03-03T17:41:12.928502Z",
     "iopub.status.idle": "2025-03-03T17:41:13.096138Z",
     "shell.execute_reply": "2025-03-03T17:41:13.094937Z"
    },
    "papermill": {
     "duration": 0.210389,
     "end_time": "2025-03-03T17:41:13.098178",
     "exception": false,
     "start_time": "2025-03-03T17:41:12.887789",
     "status": "completed"
    },
    "tags": []
   },
   "outputs": [],
   "source": [
    "plt.scatter(x='PoolArea', y='SalePrice', data=train_df)"
   ]
  },
  {
   "cell_type": "code",
   "execution_count": null,
   "id": "514e1c6c",
   "metadata": {
    "execution": {
     "iopub.execute_input": "2025-03-03T17:41:13.195629Z",
     "iopub.status.busy": "2025-03-03T17:41:13.195226Z",
     "iopub.status.idle": "2025-03-03T17:41:13.200937Z",
     "shell.execute_reply": "2025-03-03T17:41:13.199387Z"
    },
    "papermill": {
     "duration": 0.053908,
     "end_time": "2025-03-03T17:41:13.202720",
     "exception": false,
     "start_time": "2025-03-03T17:41:13.148812",
     "status": "completed"
    },
    "tags": []
   },
   "outputs": [],
   "source": [
    "values = [598, 955, 935, 1299, 250, 314, 336, 707, 379, 1183, 692, 186, 441, 186, 524, 739, 598, 955, 636, 1062, 1191, 496, 198, 1338]"
   ]
  },
  {
   "cell_type": "code",
   "execution_count": null,
   "id": "5f8f47ba",
   "metadata": {
    "execution": {
     "iopub.execute_input": "2025-03-03T17:41:13.289881Z",
     "iopub.status.busy": "2025-03-03T17:41:13.289611Z",
     "iopub.status.idle": "2025-03-03T17:41:13.300844Z",
     "shell.execute_reply": "2025-03-03T17:41:13.300044Z"
    },
    "papermill": {
     "duration": 0.055775,
     "end_time": "2025-03-03T17:41:13.302191",
     "exception": false,
     "start_time": "2025-03-03T17:41:13.246416",
     "status": "completed"
    },
    "tags": []
   },
   "outputs": [],
   "source": [
    "train_df = train_df[train_df.Id.isin(values) == False]"
   ]
  },
  {
   "cell_type": "code",
   "execution_count": null,
   "id": "d9300ee1",
   "metadata": {
    "execution": {
     "iopub.execute_input": "2025-03-03T17:41:13.389478Z",
     "iopub.status.busy": "2025-03-03T17:41:13.389100Z",
     "iopub.status.idle": "2025-03-03T17:41:13.403529Z",
     "shell.execute_reply": "2025-03-03T17:41:13.402020Z"
    },
    "papermill": {
     "duration": 0.05898,
     "end_time": "2025-03-03T17:41:13.404952",
     "exception": false,
     "start_time": "2025-03-03T17:41:13.345972",
     "status": "completed"
    },
    "tags": []
   },
   "outputs": [],
   "source": [
    "pd.DataFrame(train_df.isnull().sum().sort_values(ascending=False)).head(20)"
   ]
  },
  {
   "cell_type": "code",
   "execution_count": null,
   "id": "186436f5",
   "metadata": {
    "execution": {
     "iopub.execute_input": "2025-03-03T17:41:13.487931Z",
     "iopub.status.busy": "2025-03-03T17:41:13.487630Z",
     "iopub.status.idle": "2025-03-03T17:41:13.495587Z",
     "shell.execute_reply": "2025-03-03T17:41:13.494541Z"
    },
    "papermill": {
     "duration": 0.05099,
     "end_time": "2025-03-03T17:41:13.496703",
     "exception": false,
     "start_time": "2025-03-03T17:41:13.445713",
     "status": "completed"
    },
    "tags": []
   },
   "outputs": [],
   "source": [
    "train_df['MiscFeature'].unique()"
   ]
  },
  {
   "cell_type": "code",
   "execution_count": null,
   "id": "9c7456ad",
   "metadata": {
    "execution": {
     "iopub.execute_input": "2025-03-03T17:41:13.582788Z",
     "iopub.status.busy": "2025-03-03T17:41:13.582357Z",
     "iopub.status.idle": "2025-03-03T17:41:13.588428Z",
     "shell.execute_reply": "2025-03-03T17:41:13.587305Z"
    },
    "papermill": {
     "duration": 0.05068,
     "end_time": "2025-03-03T17:41:13.590004",
     "exception": false,
     "start_time": "2025-03-03T17:41:13.539324",
     "status": "completed"
    },
    "tags": []
   },
   "outputs": [],
   "source": [
    "train_df['Alley'].unique()"
   ]
  },
  {
   "cell_type": "code",
   "execution_count": null,
   "id": "a714a4cb",
   "metadata": {
    "execution": {
     "iopub.execute_input": "2025-03-03T17:41:13.676413Z",
     "iopub.status.busy": "2025-03-03T17:41:13.676026Z",
     "iopub.status.idle": "2025-03-03T17:41:13.680640Z",
     "shell.execute_reply": "2025-03-03T17:41:13.680018Z"
    },
    "papermill": {
     "duration": 0.04941,
     "end_time": "2025-03-03T17:41:13.681723",
     "exception": false,
     "start_time": "2025-03-03T17:41:13.632313",
     "status": "completed"
    },
    "tags": []
   },
   "outputs": [],
   "source": [
    "train_df['Alley'].fillna('No', inplace=True)\n",
    "test_df['Alley'].fillna('No', inplace=True)"
   ]
  },
  {
   "cell_type": "code",
   "execution_count": null,
   "id": "885b10b5",
   "metadata": {
    "execution": {
     "iopub.execute_input": "2025-03-03T17:41:13.766810Z",
     "iopub.status.busy": "2025-03-03T17:41:13.766541Z",
     "iopub.status.idle": "2025-03-03T17:41:13.939930Z",
     "shell.execute_reply": "2025-03-03T17:41:13.938851Z"
    },
    "papermill": {
     "duration": 0.218145,
     "end_time": "2025-03-03T17:41:13.941343",
     "exception": false,
     "start_time": "2025-03-03T17:41:13.723198",
     "status": "completed"
    },
    "tags": []
   },
   "outputs": [],
   "source": [
    "sns.catplot(data=train_df, x=\"Alley\", y=\"SalePrice\", kind=\"box\")"
   ]
  },
  {
   "cell_type": "code",
   "execution_count": null,
   "id": "fb7c86fb",
   "metadata": {
    "execution": {
     "iopub.execute_input": "2025-03-03T17:41:14.027776Z",
     "iopub.status.busy": "2025-03-03T17:41:14.027479Z",
     "iopub.status.idle": "2025-03-03T17:41:14.033181Z",
     "shell.execute_reply": "2025-03-03T17:41:14.032388Z"
    },
    "papermill": {
     "duration": 0.051747,
     "end_time": "2025-03-03T17:41:14.034920",
     "exception": false,
     "start_time": "2025-03-03T17:41:13.983173",
     "status": "completed"
    },
    "tags": []
   },
   "outputs": [],
   "source": [
    "train_df['Fence'].unique()"
   ]
  },
  {
   "cell_type": "code",
   "execution_count": null,
   "id": "4371edf2",
   "metadata": {
    "execution": {
     "iopub.execute_input": "2025-03-03T17:41:14.123790Z",
     "iopub.status.busy": "2025-03-03T17:41:14.123484Z",
     "iopub.status.idle": "2025-03-03T17:41:14.128607Z",
     "shell.execute_reply": "2025-03-03T17:41:14.127695Z"
    },
    "papermill": {
     "duration": 0.050259,
     "end_time": "2025-03-03T17:41:14.129875",
     "exception": false,
     "start_time": "2025-03-03T17:41:14.079616",
     "status": "completed"
    },
    "tags": []
   },
   "outputs": [],
   "source": [
    "train_df['Fence'].fillna('No', inplace=True)\n",
    "test_df['Fence'].fillna('No', inplace=True)"
   ]
  },
  {
   "cell_type": "code",
   "execution_count": null,
   "id": "f744c54a",
   "metadata": {
    "execution": {
     "iopub.execute_input": "2025-03-03T17:41:14.213566Z",
     "iopub.status.busy": "2025-03-03T17:41:14.213270Z",
     "iopub.status.idle": "2025-03-03T17:41:14.590532Z",
     "shell.execute_reply": "2025-03-03T17:41:14.589547Z"
    },
    "papermill": {
     "duration": 0.420477,
     "end_time": "2025-03-03T17:41:14.591781",
     "exception": false,
     "start_time": "2025-03-03T17:41:14.171304",
     "status": "completed"
    },
    "tags": []
   },
   "outputs": [],
   "source": [
    "sns.catplot(data=train_df, x=\"Fence\", y=\"SalePrice\", kind=\"box\")"
   ]
  },
  {
   "cell_type": "code",
   "execution_count": null,
   "id": "eb1f2594",
   "metadata": {
    "execution": {
     "iopub.execute_input": "2025-03-03T17:41:14.677125Z",
     "iopub.status.busy": "2025-03-03T17:41:14.676808Z",
     "iopub.status.idle": "2025-03-03T17:41:14.682518Z",
     "shell.execute_reply": "2025-03-03T17:41:14.681752Z"
    },
    "papermill": {
     "duration": 0.049796,
     "end_time": "2025-03-03T17:41:14.683721",
     "exception": false,
     "start_time": "2025-03-03T17:41:14.633925",
     "status": "completed"
    },
    "tags": []
   },
   "outputs": [],
   "source": [
    "train_df['MasVnrType'].unique()"
   ]
  },
  {
   "cell_type": "code",
   "execution_count": null,
   "id": "1e2ed1aa",
   "metadata": {
    "execution": {
     "iopub.execute_input": "2025-03-03T17:41:14.770841Z",
     "iopub.status.busy": "2025-03-03T17:41:14.770573Z",
     "iopub.status.idle": "2025-03-03T17:41:14.775414Z",
     "shell.execute_reply": "2025-03-03T17:41:14.774471Z"
    },
    "papermill": {
     "duration": 0.049774,
     "end_time": "2025-03-03T17:41:14.776868",
     "exception": false,
     "start_time": "2025-03-03T17:41:14.727094",
     "status": "completed"
    },
    "tags": []
   },
   "outputs": [],
   "source": [
    "train_df['MasVnrType'].fillna('No', inplace=True)\n",
    "test_df['MasVnrType'].fillna('No', inplace=True)"
   ]
  },
  {
   "cell_type": "code",
   "execution_count": null,
   "id": "f8c9fa56",
   "metadata": {
    "execution": {
     "iopub.execute_input": "2025-03-03T17:41:14.862771Z",
     "iopub.status.busy": "2025-03-03T17:41:14.862464Z",
     "iopub.status.idle": "2025-03-03T17:41:15.037989Z",
     "shell.execute_reply": "2025-03-03T17:41:15.037085Z"
    },
    "papermill": {
     "duration": 0.220177,
     "end_time": "2025-03-03T17:41:15.039203",
     "exception": false,
     "start_time": "2025-03-03T17:41:14.819026",
     "status": "completed"
    },
    "tags": []
   },
   "outputs": [],
   "source": [
    "sns.catplot(data=train_df, x=\"MasVnrType\", y=\"SalePrice\", kind=\"box\")"
   ]
  },
  {
   "cell_type": "code",
   "execution_count": null,
   "id": "000d4228",
   "metadata": {
    "execution": {
     "iopub.execute_input": "2025-03-03T17:41:15.130532Z",
     "iopub.status.busy": "2025-03-03T17:41:15.130252Z",
     "iopub.status.idle": "2025-03-03T17:41:15.134624Z",
     "shell.execute_reply": "2025-03-03T17:41:15.133944Z"
    },
    "papermill": {
     "duration": 0.050328,
     "end_time": "2025-03-03T17:41:15.135839",
     "exception": false,
     "start_time": "2025-03-03T17:41:15.085511",
     "status": "completed"
    },
    "tags": []
   },
   "outputs": [],
   "source": [
    "train_df['MasVnrArea'].fillna(0, inplace=True)\n",
    "test_df['MasVnrArea'].fillna(0, inplace=True)"
   ]
  },
  {
   "cell_type": "code",
   "execution_count": null,
   "id": "52fb32ff",
   "metadata": {
    "execution": {
     "iopub.execute_input": "2025-03-03T17:41:15.221808Z",
     "iopub.status.busy": "2025-03-03T17:41:15.221388Z",
     "iopub.status.idle": "2025-03-03T17:41:15.227348Z",
     "shell.execute_reply": "2025-03-03T17:41:15.226019Z"
    },
    "papermill": {
     "duration": 0.050866,
     "end_time": "2025-03-03T17:41:15.229079",
     "exception": false,
     "start_time": "2025-03-03T17:41:15.178213",
     "status": "completed"
    },
    "tags": []
   },
   "outputs": [],
   "source": [
    "train_df['FireplaceQu'].unique()"
   ]
  },
  {
   "cell_type": "code",
   "execution_count": null,
   "id": "699bc328",
   "metadata": {
    "execution": {
     "iopub.execute_input": "2025-03-03T17:41:15.326017Z",
     "iopub.status.busy": "2025-03-03T17:41:15.325725Z",
     "iopub.status.idle": "2025-03-03T17:41:15.331879Z",
     "shell.execute_reply": "2025-03-03T17:41:15.330375Z"
    },
    "papermill": {
     "duration": 0.055986,
     "end_time": "2025-03-03T17:41:15.333540",
     "exception": false,
     "start_time": "2025-03-03T17:41:15.277554",
     "status": "completed"
    },
    "tags": []
   },
   "outputs": [],
   "source": [
    "train_df['FireplaceQu'].fillna('No', inplace=True)\n",
    "test_df['FireplaceQu'].fillna('No', inplace=True)"
   ]
  },
  {
   "cell_type": "code",
   "execution_count": null,
   "id": "1d98e129",
   "metadata": {
    "execution": {
     "iopub.execute_input": "2025-03-03T17:41:15.430036Z",
     "iopub.status.busy": "2025-03-03T17:41:15.429700Z",
     "iopub.status.idle": "2025-03-03T17:41:15.633438Z",
     "shell.execute_reply": "2025-03-03T17:41:15.632180Z"
    },
    "papermill": {
     "duration": 0.253391,
     "end_time": "2025-03-03T17:41:15.635069",
     "exception": false,
     "start_time": "2025-03-03T17:41:15.381678",
     "status": "completed"
    },
    "tags": []
   },
   "outputs": [],
   "source": [
    "sns.catplot(data=train_df, x=\"FireplaceQu\", y=\"SalePrice\", kind=\"box\")"
   ]
  },
  {
   "cell_type": "code",
   "execution_count": null,
   "id": "0967c500",
   "metadata": {
    "execution": {
     "iopub.execute_input": "2025-03-03T17:41:15.723830Z",
     "iopub.status.busy": "2025-03-03T17:41:15.723515Z",
     "iopub.status.idle": "2025-03-03T17:41:15.906034Z",
     "shell.execute_reply": "2025-03-03T17:41:15.904783Z"
    },
    "papermill": {
     "duration": 0.227797,
     "end_time": "2025-03-03T17:41:15.907356",
     "exception": false,
     "start_time": "2025-03-03T17:41:15.679559",
     "status": "completed"
    },
    "tags": []
   },
   "outputs": [],
   "source": [
    "sns.catplot(data=train_df, x=\"Fireplaces\", y=\"SalePrice\", kind=\"box\")"
   ]
  },
  {
   "cell_type": "code",
   "execution_count": null,
   "id": "7569ed88",
   "metadata": {
    "execution": {
     "iopub.execute_input": "2025-03-03T17:41:15.998229Z",
     "iopub.status.busy": "2025-03-03T17:41:15.997931Z",
     "iopub.status.idle": "2025-03-03T17:41:16.004067Z",
     "shell.execute_reply": "2025-03-03T17:41:16.003086Z"
    },
    "papermill": {
     "duration": 0.052874,
     "end_time": "2025-03-03T17:41:16.005877",
     "exception": false,
     "start_time": "2025-03-03T17:41:15.953003",
     "status": "completed"
    },
    "tags": []
   },
   "outputs": [],
   "source": [
    "train_df['LotFrontage'].fillna(0, inplace=True)\n",
    "test_df['LotFrontage'].fillna(0, inplace=True)"
   ]
  },
  {
   "cell_type": "code",
   "execution_count": null,
   "id": "6b777f30",
   "metadata": {
    "execution": {
     "iopub.execute_input": "2025-03-03T17:41:16.099928Z",
     "iopub.status.busy": "2025-03-03T17:41:16.099612Z",
     "iopub.status.idle": "2025-03-03T17:41:16.113269Z",
     "shell.execute_reply": "2025-03-03T17:41:16.112348Z"
    },
    "papermill": {
     "duration": 0.062829,
     "end_time": "2025-03-03T17:41:16.114544",
     "exception": false,
     "start_time": "2025-03-03T17:41:16.051715",
     "status": "completed"
    },
    "tags": []
   },
   "outputs": [],
   "source": [
    "train_df['GarageYrBlt'].corr(train_df['YearBuilt'])"
   ]
  },
  {
   "cell_type": "code",
   "execution_count": null,
   "id": "bb4cf34c",
   "metadata": {
    "execution": {
     "iopub.execute_input": "2025-03-03T17:41:16.203156Z",
     "iopub.status.busy": "2025-03-03T17:41:16.202852Z",
     "iopub.status.idle": "2025-03-03T17:41:16.208620Z",
     "shell.execute_reply": "2025-03-03T17:41:16.207698Z"
    },
    "papermill": {
     "duration": 0.050847,
     "end_time": "2025-03-03T17:41:16.209806",
     "exception": false,
     "start_time": "2025-03-03T17:41:16.158959",
     "status": "completed"
    },
    "tags": []
   },
   "outputs": [],
   "source": [
    "train_df['GarageCond'].unique()"
   ]
  },
  {
   "cell_type": "code",
   "execution_count": null,
   "id": "f63ac809",
   "metadata": {
    "execution": {
     "iopub.execute_input": "2025-03-03T17:41:16.301101Z",
     "iopub.status.busy": "2025-03-03T17:41:16.300682Z",
     "iopub.status.idle": "2025-03-03T17:41:16.305858Z",
     "shell.execute_reply": "2025-03-03T17:41:16.305008Z"
    },
    "papermill": {
     "duration": 0.052336,
     "end_time": "2025-03-03T17:41:16.307372",
     "exception": false,
     "start_time": "2025-03-03T17:41:16.255036",
     "status": "completed"
    },
    "tags": []
   },
   "outputs": [],
   "source": [
    "train_df['GarageCond'].fillna('No', inplace=True)\n",
    "test_df['GarageCond'].fillna('No', inplace=True)"
   ]
  },
  {
   "cell_type": "code",
   "execution_count": null,
   "id": "c9906880",
   "metadata": {
    "execution": {
     "iopub.execute_input": "2025-03-03T17:41:16.396989Z",
     "iopub.status.busy": "2025-03-03T17:41:16.396683Z",
     "iopub.status.idle": "2025-03-03T17:41:16.600646Z",
     "shell.execute_reply": "2025-03-03T17:41:16.598922Z"
    },
    "papermill": {
     "duration": 0.249891,
     "end_time": "2025-03-03T17:41:16.601990",
     "exception": false,
     "start_time": "2025-03-03T17:41:16.352099",
     "status": "completed"
    },
    "tags": []
   },
   "outputs": [],
   "source": [
    "sns.catplot(data=train_df, x=\"GarageCond\", y=\"SalePrice\", kind=\"box\")"
   ]
  },
  {
   "cell_type": "code",
   "execution_count": null,
   "id": "5cdddf12",
   "metadata": {
    "execution": {
     "iopub.execute_input": "2025-03-03T17:41:16.747675Z",
     "iopub.status.busy": "2025-03-03T17:41:16.747333Z",
     "iopub.status.idle": "2025-03-03T17:41:16.752585Z",
     "shell.execute_reply": "2025-03-03T17:41:16.751671Z"
    },
    "papermill": {
     "duration": 0.052296,
     "end_time": "2025-03-03T17:41:16.753870",
     "exception": false,
     "start_time": "2025-03-03T17:41:16.701574",
     "status": "completed"
    },
    "tags": []
   },
   "outputs": [],
   "source": [
    "train_df['GarageType'].fillna('No', inplace=True)\n",
    "test_df['GarageType'].fillna('No', inplace=True)"
   ]
  },
  {
   "cell_type": "code",
   "execution_count": null,
   "id": "eb8245f4",
   "metadata": {
    "execution": {
     "iopub.execute_input": "2025-03-03T17:41:16.845945Z",
     "iopub.status.busy": "2025-03-03T17:41:16.845618Z",
     "iopub.status.idle": "2025-03-03T17:41:17.066741Z",
     "shell.execute_reply": "2025-03-03T17:41:17.065878Z"
    },
    "papermill": {
     "duration": 0.268739,
     "end_time": "2025-03-03T17:41:17.068070",
     "exception": false,
     "start_time": "2025-03-03T17:41:16.799331",
     "status": "completed"
    },
    "tags": []
   },
   "outputs": [],
   "source": [
    "sns.catplot(data=train_df, x=\"GarageType\", y=\"SalePrice\", kind=\"box\")"
   ]
  },
  {
   "cell_type": "code",
   "execution_count": null,
   "id": "0e719135",
   "metadata": {
    "execution": {
     "iopub.execute_input": "2025-03-03T17:41:17.162485Z",
     "iopub.status.busy": "2025-03-03T17:41:17.161970Z",
     "iopub.status.idle": "2025-03-03T17:41:17.167649Z",
     "shell.execute_reply": "2025-03-03T17:41:17.166450Z"
    },
    "papermill": {
     "duration": 0.053958,
     "end_time": "2025-03-03T17:41:17.169296",
     "exception": false,
     "start_time": "2025-03-03T17:41:17.115338",
     "status": "completed"
    },
    "tags": []
   },
   "outputs": [],
   "source": [
    "train_df['GarageFinish'].fillna('No', inplace=True)\n",
    "test_df['GarageFinish'].fillna('No', inplace=True)"
   ]
  },
  {
   "cell_type": "code",
   "execution_count": null,
   "id": "ba500b03",
   "metadata": {
    "execution": {
     "iopub.execute_input": "2025-03-03T17:41:17.262769Z",
     "iopub.status.busy": "2025-03-03T17:41:17.262489Z",
     "iopub.status.idle": "2025-03-03T17:41:17.449754Z",
     "shell.execute_reply": "2025-03-03T17:41:17.448588Z"
    },
    "papermill": {
     "duration": 0.235701,
     "end_time": "2025-03-03T17:41:17.451173",
     "exception": false,
     "start_time": "2025-03-03T17:41:17.215472",
     "status": "completed"
    },
    "tags": []
   },
   "outputs": [],
   "source": [
    "sns.catplot(data=train_df, x=\"GarageFinish\", y=\"SalePrice\", kind=\"box\")"
   ]
  },
  {
   "cell_type": "code",
   "execution_count": null,
   "id": "13d93c5b",
   "metadata": {
    "execution": {
     "iopub.execute_input": "2025-03-03T17:41:17.548395Z",
     "iopub.status.busy": "2025-03-03T17:41:17.548018Z",
     "iopub.status.idle": "2025-03-03T17:41:17.553045Z",
     "shell.execute_reply": "2025-03-03T17:41:17.552321Z"
    },
    "papermill": {
     "duration": 0.054666,
     "end_time": "2025-03-03T17:41:17.554210",
     "exception": false,
     "start_time": "2025-03-03T17:41:17.499544",
     "status": "completed"
    },
    "tags": []
   },
   "outputs": [],
   "source": [
    "train_df['GarageQual'].fillna('No', inplace=True)\n",
    "test_df['GarageQual'].fillna('No', inplace=True)"
   ]
  },
  {
   "cell_type": "code",
   "execution_count": null,
   "id": "2559346b",
   "metadata": {
    "papermill": {
     "duration": 0.04645,
     "end_time": "2025-03-03T17:41:17.648125",
     "exception": false,
     "start_time": "2025-03-03T17:41:17.601675",
     "status": "completed"
    },
    "tags": []
   },
   "outputs": [],
   "source": []
  },
  {
   "cell_type": "code",
   "execution_count": null,
   "id": "25f9150c",
   "metadata": {
    "execution": {
     "iopub.execute_input": "2025-03-03T17:41:17.740882Z",
     "iopub.status.busy": "2025-03-03T17:41:17.740620Z",
     "iopub.status.idle": "2025-03-03T17:41:17.939057Z",
     "shell.execute_reply": "2025-03-03T17:41:17.937950Z"
    },
    "papermill": {
     "duration": 0.246896,
     "end_time": "2025-03-03T17:41:17.940885",
     "exception": false,
     "start_time": "2025-03-03T17:41:17.693989",
     "status": "completed"
    },
    "tags": []
   },
   "outputs": [],
   "source": [
    "sns.catplot(data=train_df, x=\"GarageQual\", y=\"SalePrice\", kind=\"box\")"
   ]
  },
  {
   "cell_type": "code",
   "execution_count": null,
   "id": "2b84c361",
   "metadata": {
    "execution": {
     "iopub.execute_input": "2025-03-03T17:41:18.037686Z",
     "iopub.status.busy": "2025-03-03T17:41:18.037382Z",
     "iopub.status.idle": "2025-03-03T17:41:18.042883Z",
     "shell.execute_reply": "2025-03-03T17:41:18.042043Z"
    },
    "papermill": {
     "duration": 0.053627,
     "end_time": "2025-03-03T17:41:18.044073",
     "exception": false,
     "start_time": "2025-03-03T17:41:17.990446",
     "status": "completed"
    },
    "tags": []
   },
   "outputs": [],
   "source": [
    "train_df['BsmtFinType2'].unique()"
   ]
  },
  {
   "cell_type": "code",
   "execution_count": null,
   "id": "a12e2063",
   "metadata": {
    "execution": {
     "iopub.execute_input": "2025-03-03T17:41:18.138275Z",
     "iopub.status.busy": "2025-03-03T17:41:18.137912Z",
     "iopub.status.idle": "2025-03-03T17:41:18.143106Z",
     "shell.execute_reply": "2025-03-03T17:41:18.142129Z"
    },
    "papermill": {
     "duration": 0.054385,
     "end_time": "2025-03-03T17:41:18.144703",
     "exception": false,
     "start_time": "2025-03-03T17:41:18.090318",
     "status": "completed"
    },
    "tags": []
   },
   "outputs": [],
   "source": [
    "train_df['BsmtFinType2'].fillna('Unf', inplace=True)\n",
    "test_df['BsmtFinType2'].fillna('Unf', inplace=True)\n"
   ]
  },
  {
   "cell_type": "code",
   "execution_count": null,
   "id": "76f913da",
   "metadata": {
    "execution": {
     "iopub.execute_input": "2025-03-03T17:41:18.237868Z",
     "iopub.status.busy": "2025-03-03T17:41:18.237587Z",
     "iopub.status.idle": "2025-03-03T17:41:18.438571Z",
     "shell.execute_reply": "2025-03-03T17:41:18.437588Z"
    },
    "papermill": {
     "duration": 0.249335,
     "end_time": "2025-03-03T17:41:18.439862",
     "exception": false,
     "start_time": "2025-03-03T17:41:18.190527",
     "status": "completed"
    },
    "tags": []
   },
   "outputs": [],
   "source": [
    "sns.catplot(data=train_df, x=\"BsmtFinType2\", y=\"SalePrice\", kind=\"box\")"
   ]
  },
  {
   "cell_type": "code",
   "execution_count": null,
   "id": "b4cc4292",
   "metadata": {
    "execution": {
     "iopub.execute_input": "2025-03-03T17:41:18.538103Z",
     "iopub.status.busy": "2025-03-03T17:41:18.537798Z",
     "iopub.status.idle": "2025-03-03T17:41:18.543346Z",
     "shell.execute_reply": "2025-03-03T17:41:18.542510Z"
    },
    "papermill": {
     "duration": 0.055584,
     "end_time": "2025-03-03T17:41:18.545179",
     "exception": false,
     "start_time": "2025-03-03T17:41:18.489595",
     "status": "completed"
    },
    "tags": []
   },
   "outputs": [],
   "source": [
    "train_df['BsmtExposure'].unique()"
   ]
  },
  {
   "cell_type": "code",
   "execution_count": null,
   "id": "24947b97",
   "metadata": {
    "execution": {
     "iopub.execute_input": "2025-03-03T17:41:18.642881Z",
     "iopub.status.busy": "2025-03-03T17:41:18.642590Z",
     "iopub.status.idle": "2025-03-03T17:41:18.647168Z",
     "shell.execute_reply": "2025-03-03T17:41:18.646568Z"
    },
    "papermill": {
     "duration": 0.054525,
     "end_time": "2025-03-03T17:41:18.648819",
     "exception": false,
     "start_time": "2025-03-03T17:41:18.594294",
     "status": "completed"
    },
    "tags": []
   },
   "outputs": [],
   "source": [
    "train_df['BsmtExposure'].fillna('No', inplace=True)\n",
    "test_df['BsmtExposure'].fillna('No', inplace=True)"
   ]
  },
  {
   "cell_type": "code",
   "execution_count": null,
   "id": "e8294aca",
   "metadata": {
    "execution": {
     "iopub.execute_input": "2025-03-03T17:41:18.746788Z",
     "iopub.status.busy": "2025-03-03T17:41:18.746481Z",
     "iopub.status.idle": "2025-03-03T17:41:18.927717Z",
     "shell.execute_reply": "2025-03-03T17:41:18.926903Z"
    },
    "papermill": {
     "duration": 0.23247,
     "end_time": "2025-03-03T17:41:18.929500",
     "exception": false,
     "start_time": "2025-03-03T17:41:18.697030",
     "status": "completed"
    },
    "tags": []
   },
   "outputs": [],
   "source": [
    "sns.catplot(data=train_df, x=\"BsmtExposure\", y=\"SalePrice\", kind=\"box\")"
   ]
  },
  {
   "cell_type": "code",
   "execution_count": null,
   "id": "43a82007",
   "metadata": {
    "execution": {
     "iopub.execute_input": "2025-03-03T17:41:19.029869Z",
     "iopub.status.busy": "2025-03-03T17:41:19.029539Z",
     "iopub.status.idle": "2025-03-03T17:41:19.036122Z",
     "shell.execute_reply": "2025-03-03T17:41:19.034867Z"
    },
    "papermill": {
     "duration": 0.058019,
     "end_time": "2025-03-03T17:41:19.037827",
     "exception": false,
     "start_time": "2025-03-03T17:41:18.979808",
     "status": "completed"
    },
    "tags": []
   },
   "outputs": [],
   "source": [
    "train_df['BsmtQual'].unique()"
   ]
  },
  {
   "cell_type": "code",
   "execution_count": null,
   "id": "c2a31c33",
   "metadata": {
    "execution": {
     "iopub.execute_input": "2025-03-03T17:41:19.138329Z",
     "iopub.status.busy": "2025-03-03T17:41:19.137960Z",
     "iopub.status.idle": "2025-03-03T17:41:19.143280Z",
     "shell.execute_reply": "2025-03-03T17:41:19.142343Z"
    },
    "papermill": {
     "duration": 0.058074,
     "end_time": "2025-03-03T17:41:19.144560",
     "exception": false,
     "start_time": "2025-03-03T17:41:19.086486",
     "status": "completed"
    },
    "tags": []
   },
   "outputs": [],
   "source": [
    "train_df['BsmtQual'].fillna('No', inplace=True)\n",
    "test_df['BsmtQual'].fillna('No', inplace=True)"
   ]
  },
  {
   "cell_type": "code",
   "execution_count": null,
   "id": "d308f7a4",
   "metadata": {
    "execution": {
     "iopub.execute_input": "2025-03-03T17:41:19.245145Z",
     "iopub.status.busy": "2025-03-03T17:41:19.244811Z",
     "iopub.status.idle": "2025-03-03T17:41:19.460127Z",
     "shell.execute_reply": "2025-03-03T17:41:19.459348Z"
    },
    "papermill": {
     "duration": 0.265049,
     "end_time": "2025-03-03T17:41:19.461320",
     "exception": false,
     "start_time": "2025-03-03T17:41:19.196271",
     "status": "completed"
    },
    "tags": []
   },
   "outputs": [],
   "source": [
    "sns.catplot(data=train_df, x=\"BsmtQual\", y=\"SalePrice\", kind=\"box\")"
   ]
  },
  {
   "cell_type": "code",
   "execution_count": null,
   "id": "1fc9cef8",
   "metadata": {
    "execution": {
     "iopub.execute_input": "2025-03-03T17:41:19.557673Z",
     "iopub.status.busy": "2025-03-03T17:41:19.557375Z",
     "iopub.status.idle": "2025-03-03T17:41:19.562131Z",
     "shell.execute_reply": "2025-03-03T17:41:19.561423Z"
    },
    "papermill": {
     "duration": 0.053599,
     "end_time": "2025-03-03T17:41:19.563214",
     "exception": false,
     "start_time": "2025-03-03T17:41:19.509615",
     "status": "completed"
    },
    "tags": []
   },
   "outputs": [],
   "source": [
    "train_df['BsmtCond'].unique()"
   ]
  },
  {
   "cell_type": "code",
   "execution_count": null,
   "id": "e743ee26",
   "metadata": {
    "execution": {
     "iopub.execute_input": "2025-03-03T17:41:19.661035Z",
     "iopub.status.busy": "2025-03-03T17:41:19.660722Z",
     "iopub.status.idle": "2025-03-03T17:41:19.665696Z",
     "shell.execute_reply": "2025-03-03T17:41:19.664896Z"
    },
    "papermill": {
     "duration": 0.055101,
     "end_time": "2025-03-03T17:41:19.667138",
     "exception": false,
     "start_time": "2025-03-03T17:41:19.612037",
     "status": "completed"
    },
    "tags": []
   },
   "outputs": [],
   "source": [
    "train_df['BsmtCond'].fillna('No', inplace=True)\n",
    "test_df['BsmtCond'].fillna('No', inplace=True)"
   ]
  },
  {
   "cell_type": "code",
   "execution_count": null,
   "id": "ba300f55",
   "metadata": {
    "execution": {
     "iopub.execute_input": "2025-03-03T17:41:19.763894Z",
     "iopub.status.busy": "2025-03-03T17:41:19.763649Z",
     "iopub.status.idle": "2025-03-03T17:41:19.945273Z",
     "shell.execute_reply": "2025-03-03T17:41:19.944220Z"
    },
    "papermill": {
     "duration": 0.230781,
     "end_time": "2025-03-03T17:41:19.946583",
     "exception": false,
     "start_time": "2025-03-03T17:41:19.715802",
     "status": "completed"
    },
    "tags": []
   },
   "outputs": [],
   "source": [
    "sns.catplot(data=train_df, x=\"BsmtCond\", y=\"SalePrice\", kind=\"box\")"
   ]
  },
  {
   "cell_type": "code",
   "execution_count": null,
   "id": "8f85fdca",
   "metadata": {
    "execution": {
     "iopub.execute_input": "2025-03-03T17:41:20.047952Z",
     "iopub.status.busy": "2025-03-03T17:41:20.047603Z",
     "iopub.status.idle": "2025-03-03T17:41:20.053680Z",
     "shell.execute_reply": "2025-03-03T17:41:20.052800Z"
    },
    "papermill": {
     "duration": 0.057639,
     "end_time": "2025-03-03T17:41:20.054746",
     "exception": false,
     "start_time": "2025-03-03T17:41:19.997107",
     "status": "completed"
    },
    "tags": []
   },
   "outputs": [],
   "source": [
    "train_df['BsmtFinType1'].unique()"
   ]
  },
  {
   "cell_type": "code",
   "execution_count": null,
   "id": "d2b80bf0",
   "metadata": {
    "execution": {
     "iopub.execute_input": "2025-03-03T17:41:20.154326Z",
     "iopub.status.busy": "2025-03-03T17:41:20.153984Z",
     "iopub.status.idle": "2025-03-03T17:41:20.158317Z",
     "shell.execute_reply": "2025-03-03T17:41:20.157643Z"
    },
    "papermill": {
     "duration": 0.055501,
     "end_time": "2025-03-03T17:41:20.159602",
     "exception": false,
     "start_time": "2025-03-03T17:41:20.104101",
     "status": "completed"
    },
    "tags": []
   },
   "outputs": [],
   "source": [
    "train_df['BsmtFinType1'].fillna('Unf', inplace=True)\n",
    "test_df['BsmtFinType1'].fillna('Unf', inplace=True)"
   ]
  },
  {
   "cell_type": "code",
   "execution_count": null,
   "id": "694c688f",
   "metadata": {
    "execution": {
     "iopub.execute_input": "2025-03-03T17:41:20.261916Z",
     "iopub.status.busy": "2025-03-03T17:41:20.261632Z",
     "iopub.status.idle": "2025-03-03T17:41:20.472637Z",
     "shell.execute_reply": "2025-03-03T17:41:20.471469Z"
    },
    "papermill": {
     "duration": 0.263977,
     "end_time": "2025-03-03T17:41:20.474052",
     "exception": false,
     "start_time": "2025-03-03T17:41:20.210075",
     "status": "completed"
    },
    "tags": []
   },
   "outputs": [],
   "source": [
    "sns.catplot(data=train_df, x=\"BsmtFinType1\", y=\"SalePrice\", kind=\"box\")"
   ]
  },
  {
   "cell_type": "code",
   "execution_count": null,
   "id": "88d21a69",
   "metadata": {
    "execution": {
     "iopub.execute_input": "2025-03-03T17:41:20.579005Z",
     "iopub.status.busy": "2025-03-03T17:41:20.578667Z",
     "iopub.status.idle": "2025-03-03T17:41:20.585118Z",
     "shell.execute_reply": "2025-03-03T17:41:20.583936Z"
    },
    "papermill": {
     "duration": 0.061518,
     "end_time": "2025-03-03T17:41:20.586914",
     "exception": false,
     "start_time": "2025-03-03T17:41:20.525396",
     "status": "completed"
    },
    "tags": []
   },
   "outputs": [],
   "source": [
    "train_df['MasVnrArea'].fillna(0, inplace=True)\n",
    "test_df['MasVnrArea'].fillna(0, inplace=True)"
   ]
  },
  {
   "cell_type": "code",
   "execution_count": null,
   "id": "3da018ec",
   "metadata": {
    "execution": {
     "iopub.execute_input": "2025-03-03T17:41:20.690300Z",
     "iopub.status.busy": "2025-03-03T17:41:20.689907Z",
     "iopub.status.idle": "2025-03-03T17:41:20.695467Z",
     "shell.execute_reply": "2025-03-03T17:41:20.694400Z"
    },
    "papermill": {
     "duration": 0.059668,
     "end_time": "2025-03-03T17:41:20.697526",
     "exception": false,
     "start_time": "2025-03-03T17:41:20.637858",
     "status": "completed"
    },
    "tags": []
   },
   "outputs": [],
   "source": [
    "train_df['Electrical'].fillna('SBrkr', inplace=True)\n",
    "test_df['Electrical'].fillna('SBrkr', inplace=True)"
   ]
  },
  {
   "cell_type": "code",
   "execution_count": null,
   "id": "d01ab2a1",
   "metadata": {
    "execution": {
     "iopub.execute_input": "2025-03-03T17:41:20.803352Z",
     "iopub.status.busy": "2025-03-03T17:41:20.802910Z",
     "iopub.status.idle": "2025-03-03T17:41:20.810495Z",
     "shell.execute_reply": "2025-03-03T17:41:20.809146Z"
    },
    "papermill": {
     "duration": 0.061452,
     "end_time": "2025-03-03T17:41:20.812270",
     "exception": false,
     "start_time": "2025-03-03T17:41:20.750818",
     "status": "completed"
    },
    "tags": []
   },
   "outputs": [],
   "source": [
    "train_df = train_df.drop(columns=['PoolQC', 'MiscFeature', 'Alley', 'Fence', 'GarageYrBlt', 'GarageCond', 'BsmtFinType2'])\n",
    "test_df = test_df.drop(columns=['PoolQC', 'MiscFeature', 'Alley', 'Fence', 'GarageYrBlt', 'GarageCond', 'BsmtFinType2'])"
   ]
  },
  {
   "cell_type": "code",
   "execution_count": null,
   "id": "4a00ca7a",
   "metadata": {
    "execution": {
     "iopub.execute_input": "2025-03-03T17:41:21.047582Z",
     "iopub.status.busy": "2025-03-03T17:41:21.047155Z",
     "iopub.status.idle": "2025-03-03T17:41:21.053123Z",
     "shell.execute_reply": "2025-03-03T17:41:21.052164Z"
    },
    "papermill": {
     "duration": 0.079936,
     "end_time": "2025-03-03T17:41:21.054750",
     "exception": false,
     "start_time": "2025-03-03T17:41:20.974814",
     "status": "completed"
    },
    "tags": []
   },
   "outputs": [],
   "source": [
    "train_df['houseage'] = train_df['YrSold'] - train_df['YearBuilt']\n",
    "test_df['houseage'] = test_df['YrSold'] - test_df['YearBuilt']"
   ]
  },
  {
   "cell_type": "code",
   "execution_count": null,
   "id": "b177f095",
   "metadata": {
    "execution": {
     "iopub.execute_input": "2025-03-03T17:41:21.158497Z",
     "iopub.status.busy": "2025-03-03T17:41:21.158089Z",
     "iopub.status.idle": "2025-03-03T17:41:21.163545Z",
     "shell.execute_reply": "2025-03-03T17:41:21.162671Z"
    },
    "papermill": {
     "duration": 0.059506,
     "end_time": "2025-03-03T17:41:21.164988",
     "exception": false,
     "start_time": "2025-03-03T17:41:21.105482",
     "status": "completed"
    },
    "tags": []
   },
   "outputs": [],
   "source": [
    "train_df['houseremodelage'] = train_df['YrSold'] - train_df['YearRemodAdd']\n",
    "test_df['houseremodelage'] = test_df['YrSold'] - test_df['YearRemodAdd']"
   ]
  },
  {
   "cell_type": "code",
   "execution_count": null,
   "id": "83160c44",
   "metadata": {
    "execution": {
     "iopub.execute_input": "2025-03-03T17:41:21.268783Z",
     "iopub.status.busy": "2025-03-03T17:41:21.268099Z",
     "iopub.status.idle": "2025-03-03T17:41:21.275106Z",
     "shell.execute_reply": "2025-03-03T17:41:21.274171Z"
    },
    "papermill": {
     "duration": 0.060605,
     "end_time": "2025-03-03T17:41:21.276806",
     "exception": false,
     "start_time": "2025-03-03T17:41:21.216201",
     "status": "completed"
    },
    "tags": []
   },
   "outputs": [],
   "source": [
    "train_df['totalsf'] = train_df['1stFlrSF'] + train_df['2ndFlrSF'] + train_df['BsmtFinSF1'] + train_df['BsmtFinSF2']\n",
    "test_df['totalsf'] = test_df['1stFlrSF'] + test_df['2ndFlrSF'] + test_df['BsmtFinSF1'] + test_df['BsmtFinSF2']"
   ]
  },
  {
   "cell_type": "code",
   "execution_count": null,
   "id": "eaff0d61",
   "metadata": {
    "execution": {
     "iopub.execute_input": "2025-03-03T17:41:21.380211Z",
     "iopub.status.busy": "2025-03-03T17:41:21.379907Z",
     "iopub.status.idle": "2025-03-03T17:41:21.384769Z",
     "shell.execute_reply": "2025-03-03T17:41:21.384080Z"
    },
    "papermill": {
     "duration": 0.057665,
     "end_time": "2025-03-03T17:41:21.385833",
     "exception": false,
     "start_time": "2025-03-03T17:41:21.328168",
     "status": "completed"
    },
    "tags": []
   },
   "outputs": [],
   "source": [
    "train_df['totalarea'] = train_df['GrLivArea'] + train_df['TotalBsmtSF']\n",
    "test_df['totalarea'] = test_df['GrLivArea'] + test_df['TotalBsmtSF']"
   ]
  },
  {
   "cell_type": "code",
   "execution_count": null,
   "id": "b3d0bae9",
   "metadata": {
    "execution": {
     "iopub.execute_input": "2025-03-03T17:41:21.485222Z",
     "iopub.status.busy": "2025-03-03T17:41:21.484928Z",
     "iopub.status.idle": "2025-03-03T17:41:21.491170Z",
     "shell.execute_reply": "2025-03-03T17:41:21.490161Z"
    },
    "papermill": {
     "duration": 0.057733,
     "end_time": "2025-03-03T17:41:21.492642",
     "exception": false,
     "start_time": "2025-03-03T17:41:21.434909",
     "status": "completed"
    },
    "tags": []
   },
   "outputs": [],
   "source": [
    "train_df['totalbaths'] = train_df['BsmtFullBath'] + train_df['FullBath'] + 0.5 * (train_df['BsmtHalfBath'] + train_df['HalfBath']) \n",
    "test_df['totalbaths'] = test_df['BsmtFullBath'] + test_df['FullBath'] + 0.5 * (test_df['BsmtHalfBath'] + test_df['HalfBath']) "
   ]
  },
  {
   "cell_type": "code",
   "execution_count": null,
   "id": "2dcb3886",
   "metadata": {
    "execution": {
     "iopub.execute_input": "2025-03-03T17:41:21.594227Z",
     "iopub.status.busy": "2025-03-03T17:41:21.593896Z",
     "iopub.status.idle": "2025-03-03T17:41:21.600838Z",
     "shell.execute_reply": "2025-03-03T17:41:21.599610Z"
    },
    "papermill": {
     "duration": 0.059127,
     "end_time": "2025-03-03T17:41:21.602584",
     "exception": false,
     "start_time": "2025-03-03T17:41:21.543457",
     "status": "completed"
    },
    "tags": []
   },
   "outputs": [],
   "source": [
    "train_df['totalporchsf'] = train_df['OpenPorchSF'] + train_df['3SsnPorch'] + train_df['EnclosedPorch'] + train_df['ScreenPorch'] + train_df['WoodDeckSF']\n",
    "test_df['totalporchsf'] = test_df['OpenPorchSF'] + test_df['3SsnPorch'] + test_df['EnclosedPorch'] + test_df['ScreenPorch'] + test_df['WoodDeckSF']"
   ]
  },
  {
   "cell_type": "code",
   "execution_count": null,
   "id": "99837a9a",
   "metadata": {
    "execution": {
     "iopub.execute_input": "2025-03-03T17:41:21.707510Z",
     "iopub.status.busy": "2025-03-03T17:41:21.707196Z",
     "iopub.status.idle": "2025-03-03T17:41:21.714007Z",
     "shell.execute_reply": "2025-03-03T17:41:21.713094Z"
    },
    "papermill": {
     "duration": 0.060397,
     "end_time": "2025-03-03T17:41:21.715075",
     "exception": false,
     "start_time": "2025-03-03T17:41:21.654678",
     "status": "completed"
    },
    "tags": []
   },
   "outputs": [],
   "source": [
    "train_df = train_df.drop(columns=['Id','YrSold', 'YearBuilt', 'YearRemodAdd', '1stFlrSF', '2ndFlrSF', 'BsmtFinSF1', 'BsmtFinSF2', 'GrLivArea', 'TotalBsmtSF','BsmtFullBath', 'FullBath', 'BsmtHalfBath', 'HalfBath', 'OpenPorchSF', '3SsnPorch', 'EnclosedPorch', 'ScreenPorch','WoodDeckSF'])\n",
    "test_df = test_df.drop(columns=['YrSold', 'YearBuilt', 'YearRemodAdd', '1stFlrSF', '2ndFlrSF', 'BsmtFinSF1', 'BsmtFinSF2', 'GrLivArea', 'TotalBsmtSF','BsmtFullBath', 'FullBath', 'BsmtHalfBath', 'HalfBath', 'OpenPorchSF', '3SsnPorch', 'EnclosedPorch', 'ScreenPorch','WoodDeckSF'])"
   ]
  },
  {
   "cell_type": "code",
   "execution_count": null,
   "id": "a9b82b39",
   "metadata": {
    "execution": {
     "iopub.execute_input": "2025-03-03T17:41:21.814067Z",
     "iopub.status.busy": "2025-03-03T17:41:21.813790Z",
     "iopub.status.idle": "2025-03-03T17:41:23.384991Z",
     "shell.execute_reply": "2025-03-03T17:41:23.383841Z"
    },
    "papermill": {
     "duration": 1.625902,
     "end_time": "2025-03-03T17:41:23.389878",
     "exception": false,
     "start_time": "2025-03-03T17:41:21.763976",
     "status": "completed"
    },
    "tags": []
   },
   "outputs": [],
   "source": [
    "correlation_matrix = train_df.corr(numeric_only=True)\n",
    "plt.figure(figsize=(20,12))\n",
    "sns.heatmap(correlation_matrix, annot=True, cmap='coolwarm', fmt=\".2f\")"
   ]
  },
  {
   "cell_type": "code",
   "execution_count": null,
   "id": "9c6cc7f2",
   "metadata": {
    "execution": {
     "iopub.execute_input": "2025-03-03T17:41:23.623526Z",
     "iopub.status.busy": "2025-03-03T17:41:23.623211Z",
     "iopub.status.idle": "2025-03-03T17:41:23.629883Z",
     "shell.execute_reply": "2025-03-03T17:41:23.628752Z"
    },
    "papermill": {
     "duration": 0.064094,
     "end_time": "2025-03-03T17:41:23.631008",
     "exception": false,
     "start_time": "2025-03-03T17:41:23.566914",
     "status": "completed"
    },
    "tags": []
   },
   "outputs": [],
   "source": [
    "train_df = train_df.drop(columns=['GarageArea'])\n",
    "test_df = test_df.drop(columns=['GarageArea'])"
   ]
  },
  {
   "cell_type": "code",
   "execution_count": null,
   "id": "e6f5f00a",
   "metadata": {
    "execution": {
     "iopub.execute_input": "2025-03-03T17:41:23.743674Z",
     "iopub.status.busy": "2025-03-03T17:41:23.743329Z",
     "iopub.status.idle": "2025-03-03T17:41:23.944815Z",
     "shell.execute_reply": "2025-03-03T17:41:23.944017Z"
    },
    "papermill": {
     "duration": 0.260532,
     "end_time": "2025-03-03T17:41:23.946165",
     "exception": false,
     "start_time": "2025-03-03T17:41:23.685633",
     "status": "completed"
    },
    "tags": []
   },
   "outputs": [],
   "source": [
    "sns.histplot(\n",
    "    train_df,\n",
    "    x=train_df['SalePrice']\n",
    ")"
   ]
  },
  {
   "cell_type": "code",
   "execution_count": null,
   "id": "edbd731b",
   "metadata": {
    "execution": {
     "iopub.execute_input": "2025-03-03T17:41:24.074411Z",
     "iopub.status.busy": "2025-03-03T17:41:24.073923Z",
     "iopub.status.idle": "2025-03-03T17:41:24.087187Z",
     "shell.execute_reply": "2025-03-03T17:41:24.086133Z"
    },
    "papermill": {
     "duration": 0.083399,
     "end_time": "2025-03-03T17:41:24.088788",
     "exception": false,
     "start_time": "2025-03-03T17:41:24.005389",
     "status": "completed"
    },
    "tags": []
   },
   "outputs": [],
   "source": [
    "train_df['SalePrice'] = np.log1p(train_df['SalePrice'])"
   ]
  },
  {
   "cell_type": "code",
   "execution_count": null,
   "id": "92882a67",
   "metadata": {
    "execution": {
     "iopub.execute_input": "2025-03-03T17:41:24.219403Z",
     "iopub.status.busy": "2025-03-03T17:41:24.218941Z",
     "iopub.status.idle": "2025-03-03T17:41:24.422580Z",
     "shell.execute_reply": "2025-03-03T17:41:24.421574Z"
    },
    "papermill": {
     "duration": 0.272842,
     "end_time": "2025-03-03T17:41:24.424221",
     "exception": false,
     "start_time": "2025-03-03T17:41:24.151379",
     "status": "completed"
    },
    "tags": []
   },
   "outputs": [],
   "source": [
    "sns.histplot(\n",
    "    train_df,\n",
    "    x=train_df['SalePrice']\n",
    ")"
   ]
  },
  {
   "cell_type": "code",
   "execution_count": null,
   "id": "a31b4167",
   "metadata": {
    "execution": {
     "iopub.execute_input": "2025-03-03T17:41:24.546096Z",
     "iopub.status.busy": "2025-03-03T17:41:24.545765Z",
     "iopub.status.idle": "2025-03-03T17:41:24.552990Z",
     "shell.execute_reply": "2025-03-03T17:41:24.552127Z"
    },
    "papermill": {
     "duration": 0.066653,
     "end_time": "2025-03-03T17:41:24.554167",
     "exception": false,
     "start_time": "2025-03-03T17:41:24.487514",
     "status": "completed"
    },
    "tags": []
   },
   "outputs": [],
   "source": [
    "train_df.dtypes[train_df.dtypes=='object']"
   ]
  },
  {
   "cell_type": "code",
   "execution_count": null,
   "id": "f032f562",
   "metadata": {
    "execution": {
     "iopub.execute_input": "2025-03-03T17:41:24.672095Z",
     "iopub.status.busy": "2025-03-03T17:41:24.671760Z",
     "iopub.status.idle": "2025-03-03T17:41:24.678528Z",
     "shell.execute_reply": "2025-03-03T17:41:24.677738Z"
    },
    "papermill": {
     "duration": 0.066976,
     "end_time": "2025-03-03T17:41:24.679743",
     "exception": false,
     "start_time": "2025-03-03T17:41:24.612767",
     "status": "completed"
    },
    "tags": []
   },
   "outputs": [],
   "source": [
    "train_df.dtypes[train_df.dtypes !='object']\n"
   ]
  },
  {
   "cell_type": "code",
   "execution_count": null,
   "id": "6fa02ac8",
   "metadata": {
    "execution": {
     "iopub.execute_input": "2025-03-03T17:41:24.795446Z",
     "iopub.status.busy": "2025-03-03T17:41:24.795109Z",
     "iopub.status.idle": "2025-03-03T17:41:24.798822Z",
     "shell.execute_reply": "2025-03-03T17:41:24.797818Z"
    },
    "papermill": {
     "duration": 0.062858,
     "end_time": "2025-03-03T17:41:24.800862",
     "exception": false,
     "start_time": "2025-03-03T17:41:24.738004",
     "status": "completed"
    },
    "tags": []
   },
   "outputs": [],
   "source": [
    "ode_cols = ['LotShape', 'LandContour','Utilities','LandSlope',  'BsmtQual',  'BsmtFinType1',  'CentralAir',  'Functional', \\\n",
    "           'FireplaceQu', 'GarageFinish', 'GarageQual', 'PavedDrive', 'ExterCond', 'KitchenQual', 'BsmtExposure', 'HeatingQC','ExterQual', 'BsmtCond']"
   ]
  },
  {
   "cell_type": "code",
   "execution_count": null,
   "id": "8f7b645f",
   "metadata": {
    "execution": {
     "iopub.execute_input": "2025-03-03T17:41:24.916462Z",
     "iopub.status.busy": "2025-03-03T17:41:24.916100Z",
     "iopub.status.idle": "2025-03-03T17:41:24.920383Z",
     "shell.execute_reply": "2025-03-03T17:41:24.919124Z"
    },
    "papermill": {
     "duration": 0.063182,
     "end_time": "2025-03-03T17:41:24.922456",
     "exception": false,
     "start_time": "2025-03-03T17:41:24.859274",
     "status": "completed"
    },
    "tags": []
   },
   "outputs": [],
   "source": [
    "ohe_cols = ['Street', 'LotConfig','Neighborhood', 'Condition1', 'Condition2', 'BldgType', 'HouseStyle', 'RoofStyle', 'Exterior1st', 'Exterior2nd', \\\n",
    "           'MasVnrType','Foundation',  'Electrical',  'SaleType', 'MSZoning', 'SaleCondition', 'Heating', 'GarageType', 'RoofMatl']"
   ]
  },
  {
   "cell_type": "code",
   "execution_count": null,
   "id": "4d81b7aa",
   "metadata": {
    "execution": {
     "iopub.execute_input": "2025-03-03T17:41:25.039643Z",
     "iopub.status.busy": "2025-03-03T17:41:25.039206Z",
     "iopub.status.idle": "2025-03-03T17:41:25.044668Z",
     "shell.execute_reply": "2025-03-03T17:41:25.043811Z"
    },
    "papermill": {
     "duration": 0.066349,
     "end_time": "2025-03-03T17:41:25.045880",
     "exception": false,
     "start_time": "2025-03-03T17:41:24.979531",
     "status": "completed"
    },
    "tags": []
   },
   "outputs": [],
   "source": [
    "num_cols = train_df.select_dtypes(include=['int64', 'float64']).columns\n",
    "num_cols = num_cols.drop('SalePrice')"
   ]
  },
  {
   "cell_type": "code",
   "execution_count": null,
   "id": "06af061d",
   "metadata": {
    "execution": {
     "iopub.execute_input": "2025-03-03T17:41:25.160211Z",
     "iopub.status.busy": "2025-03-03T17:41:25.159898Z",
     "iopub.status.idle": "2025-03-03T17:41:25.164265Z",
     "shell.execute_reply": "2025-03-03T17:41:25.162820Z"
    },
    "papermill": {
     "duration": 0.063609,
     "end_time": "2025-03-03T17:41:25.166027",
     "exception": false,
     "start_time": "2025-03-03T17:41:25.102418",
     "status": "completed"
    },
    "tags": []
   },
   "outputs": [],
   "source": [
    "num_pipeline = Pipeline(steps=[\n",
    "    ('impute', SimpleImputer(strategy='mean')),\n",
    "    ('scaler', StandardScaler())\n",
    "])"
   ]
  },
  {
   "cell_type": "code",
   "execution_count": null,
   "id": "bd2b66f8",
   "metadata": {
    "execution": {
     "iopub.execute_input": "2025-03-03T17:41:25.283841Z",
     "iopub.status.busy": "2025-03-03T17:41:25.283562Z",
     "iopub.status.idle": "2025-03-03T17:41:25.287115Z",
     "shell.execute_reply": "2025-03-03T17:41:25.286474Z"
    },
    "papermill": {
     "duration": 0.063777,
     "end_time": "2025-03-03T17:41:25.288542",
     "exception": false,
     "start_time": "2025-03-03T17:41:25.224765",
     "status": "completed"
    },
    "tags": []
   },
   "outputs": [],
   "source": [
    "ode_pipeline = Pipeline(steps=[\n",
    "    ('impute', SimpleImputer(strategy='most_frequent')),\n",
    "    ('ode', OrdinalEncoder(handle_unknown='use_encoded_value', unknown_value=-1))\n",
    "])"
   ]
  },
  {
   "cell_type": "code",
   "execution_count": null,
   "id": "b641ec53",
   "metadata": {
    "execution": {
     "iopub.execute_input": "2025-03-03T17:41:25.460039Z",
     "iopub.status.busy": "2025-03-03T17:41:25.459766Z",
     "iopub.status.idle": "2025-03-03T17:41:25.463389Z",
     "shell.execute_reply": "2025-03-03T17:41:25.462666Z"
    },
    "papermill": {
     "duration": 0.064024,
     "end_time": "2025-03-03T17:41:25.464549",
     "exception": false,
     "start_time": "2025-03-03T17:41:25.400525",
     "status": "completed"
    },
    "tags": []
   },
   "outputs": [],
   "source": [
    "ohe_pipeline = Pipeline(steps=[\n",
    "    ('impute', SimpleImputer(strategy='most_frequent')),\n",
    "    ('ohe', OneHotEncoder(handle_unknown='ignore', sparse_output=False))\n",
    "])"
   ]
  },
  {
   "cell_type": "code",
   "execution_count": null,
   "id": "20c1bb96",
   "metadata": {
    "execution": {
     "iopub.execute_input": "2025-03-03T17:41:25.585118Z",
     "iopub.status.busy": "2025-03-03T17:41:25.584782Z",
     "iopub.status.idle": "2025-03-03T17:41:25.589968Z",
     "shell.execute_reply": "2025-03-03T17:41:25.588373Z"
    },
    "papermill": {
     "duration": 0.071175,
     "end_time": "2025-03-03T17:41:25.591851",
     "exception": false,
     "start_time": "2025-03-03T17:41:25.520676",
     "status": "completed"
    },
    "tags": []
   },
   "outputs": [],
   "source": [
    "col_trans = ColumnTransformer(transformers=[\n",
    "    ('num_p', num_pipeline, num_cols),\n",
    "    ('ode_p', ode_pipeline, ode_cols),\n",
    "    ('ohe_p', ohe_pipeline, ohe_cols),\n",
    "    ],\n",
    "    remainder='passthrough', \n",
    "    n_jobs=-1)"
   ]
  },
  {
   "cell_type": "code",
   "execution_count": null,
   "id": "a8c055e9",
   "metadata": {
    "execution": {
     "iopub.execute_input": "2025-03-03T17:41:25.708680Z",
     "iopub.status.busy": "2025-03-03T17:41:25.708300Z",
     "iopub.status.idle": "2025-03-03T17:41:25.712866Z",
     "shell.execute_reply": "2025-03-03T17:41:25.711654Z"
    },
    "papermill": {
     "duration": 0.064948,
     "end_time": "2025-03-03T17:41:25.714714",
     "exception": false,
     "start_time": "2025-03-03T17:41:25.649766",
     "status": "completed"
    },
    "tags": []
   },
   "outputs": [],
   "source": [
    "pipeline = Pipeline(steps=[\n",
    "    ('preprocessing', col_trans)\n",
    "])"
   ]
  },
  {
   "cell_type": "code",
   "execution_count": null,
   "id": "2dd76de7",
   "metadata": {
    "execution": {
     "iopub.execute_input": "2025-03-03T17:41:25.832515Z",
     "iopub.status.busy": "2025-03-03T17:41:25.832176Z",
     "iopub.status.idle": "2025-03-03T17:41:25.838766Z",
     "shell.execute_reply": "2025-03-03T17:41:25.837368Z"
    },
    "papermill": {
     "duration": 0.067828,
     "end_time": "2025-03-03T17:41:25.840664",
     "exception": false,
     "start_time": "2025-03-03T17:41:25.772836",
     "status": "completed"
    },
    "tags": []
   },
   "outputs": [],
   "source": [
    "X = train_df.drop('SalePrice', axis=1)\n",
    "y = train_df['SalePrice']"
   ]
  },
  {
   "cell_type": "code",
   "execution_count": null,
   "id": "eca38569",
   "metadata": {
    "execution": {
     "iopub.execute_input": "2025-03-03T17:41:25.958645Z",
     "iopub.status.busy": "2025-03-03T17:41:25.958326Z",
     "iopub.status.idle": "2025-03-03T17:41:27.421756Z",
     "shell.execute_reply": "2025-03-03T17:41:27.420433Z"
    },
    "papermill": {
     "duration": 1.524769,
     "end_time": "2025-03-03T17:41:27.423443",
     "exception": false,
     "start_time": "2025-03-03T17:41:25.898674",
     "status": "completed"
    },
    "tags": []
   },
   "outputs": [],
   "source": [
    "X_preprocessed = pipeline.fit_transform(X)\n"
   ]
  },
  {
   "cell_type": "code",
   "execution_count": null,
   "id": "13e71579",
   "metadata": {
    "execution": {
     "iopub.execute_input": "2025-03-03T17:41:27.541000Z",
     "iopub.status.busy": "2025-03-03T17:41:27.540693Z",
     "iopub.status.idle": "2025-03-03T17:41:27.548450Z",
     "shell.execute_reply": "2025-03-03T17:41:27.547373Z"
    },
    "papermill": {
     "duration": 0.068652,
     "end_time": "2025-03-03T17:41:27.549999",
     "exception": false,
     "start_time": "2025-03-03T17:41:27.481347",
     "status": "completed"
    },
    "tags": []
   },
   "outputs": [],
   "source": [
    "X_train, X_test, y_train, y_test = train_test_split(X_preprocessed, y, test_size=0.2, random_state=25)"
   ]
  },
  {
   "cell_type": "code",
   "execution_count": null,
   "id": "1e56be8f",
   "metadata": {
    "execution": {
     "iopub.execute_input": "2025-03-03T17:41:27.667478Z",
     "iopub.status.busy": "2025-03-03T17:41:27.667173Z",
     "iopub.status.idle": "2025-03-03T17:41:27.671004Z",
     "shell.execute_reply": "2025-03-03T17:41:27.669905Z"
    },
    "papermill": {
     "duration": 0.063165,
     "end_time": "2025-03-03T17:41:27.672847",
     "exception": false,
     "start_time": "2025-03-03T17:41:27.609682",
     "status": "completed"
    },
    "tags": []
   },
   "outputs": [],
   "source": [
    "#build models"
   ]
  },
  {
   "cell_type": "code",
   "execution_count": null,
   "id": "cd2733f2",
   "metadata": {
    "execution": {
     "iopub.execute_input": "2025-03-03T17:41:27.786537Z",
     "iopub.status.busy": "2025-03-03T17:41:27.786228Z",
     "iopub.status.idle": "2025-03-03T17:41:27.790594Z",
     "shell.execute_reply": "2025-03-03T17:41:27.789103Z"
    },
    "papermill": {
     "duration": 0.062523,
     "end_time": "2025-03-03T17:41:27.792347",
     "exception": false,
     "start_time": "2025-03-03T17:41:27.729824",
     "status": "completed"
    },
    "tags": []
   },
   "outputs": [],
   "source": [
    "lr = LinearRegression()"
   ]
  },
  {
   "cell_type": "code",
   "execution_count": null,
   "id": "d9eb61e1",
   "metadata": {
    "execution": {
     "iopub.execute_input": "2025-03-03T17:41:27.906905Z",
     "iopub.status.busy": "2025-03-03T17:41:27.906627Z",
     "iopub.status.idle": "2025-03-03T17:41:28.027496Z",
     "shell.execute_reply": "2025-03-03T17:41:28.026457Z"
    },
    "papermill": {
     "duration": 0.179669,
     "end_time": "2025-03-03T17:41:28.029143",
     "exception": false,
     "start_time": "2025-03-03T17:41:27.849474",
     "status": "completed"
    },
    "tags": []
   },
   "outputs": [],
   "source": [
    "lr.fit(X_train, y_train)"
   ]
  },
  {
   "cell_type": "code",
   "execution_count": null,
   "id": "f7ed0fc7",
   "metadata": {
    "execution": {
     "iopub.execute_input": "2025-03-03T17:41:28.149502Z",
     "iopub.status.busy": "2025-03-03T17:41:28.149191Z",
     "iopub.status.idle": "2025-03-03T17:41:28.153790Z",
     "shell.execute_reply": "2025-03-03T17:41:28.152555Z"
    },
    "papermill": {
     "duration": 0.065051,
     "end_time": "2025-03-03T17:41:28.155411",
     "exception": false,
     "start_time": "2025-03-03T17:41:28.090360",
     "status": "completed"
    },
    "tags": []
   },
   "outputs": [],
   "source": [
    "y_pred_lr = lr.predict(X_test)"
   ]
  },
  {
   "cell_type": "code",
   "execution_count": null,
   "id": "9ecf68fb",
   "metadata": {
    "execution": {
     "iopub.execute_input": "2025-03-03T17:41:28.275722Z",
     "iopub.status.busy": "2025-03-03T17:41:28.275265Z",
     "iopub.status.idle": "2025-03-03T17:41:28.281839Z",
     "shell.execute_reply": "2025-03-03T17:41:28.280918Z"
    },
    "papermill": {
     "duration": 0.067778,
     "end_time": "2025-03-03T17:41:28.283531",
     "exception": false,
     "start_time": "2025-03-03T17:41:28.215753",
     "status": "completed"
    },
    "tags": []
   },
   "outputs": [],
   "source": [
    "mean_squared_error(y_test, y_pred_lr)"
   ]
  },
  {
   "cell_type": "code",
   "execution_count": null,
   "id": "a9722662",
   "metadata": {
    "execution": {
     "iopub.execute_input": "2025-03-03T17:41:28.400434Z",
     "iopub.status.busy": "2025-03-03T17:41:28.400127Z",
     "iopub.status.idle": "2025-03-03T17:41:28.404217Z",
     "shell.execute_reply": "2025-03-03T17:41:28.403279Z"
    },
    "papermill": {
     "duration": 0.063247,
     "end_time": "2025-03-03T17:41:28.405552",
     "exception": false,
     "start_time": "2025-03-03T17:41:28.342305",
     "status": "completed"
    },
    "tags": []
   },
   "outputs": [],
   "source": [
    "RFR = RandomForestRegressor(random_state=13)"
   ]
  },
  {
   "cell_type": "code",
   "execution_count": null,
   "id": "f8a60525",
   "metadata": {
    "execution": {
     "iopub.execute_input": "2025-03-03T17:41:28.524422Z",
     "iopub.status.busy": "2025-03-03T17:41:28.524052Z",
     "iopub.status.idle": "2025-03-03T17:41:28.528677Z",
     "shell.execute_reply": "2025-03-03T17:41:28.527638Z"
    },
    "papermill": {
     "duration": 0.065584,
     "end_time": "2025-03-03T17:41:28.530333",
     "exception": false,
     "start_time": "2025-03-03T17:41:28.464749",
     "status": "completed"
    },
    "tags": []
   },
   "outputs": [],
   "source": [
    "param_grid_RFR = {\n",
    "    'max_depth': [5, 10, 15],\n",
    "    'n_estimators': [100, 250, 500],\n",
    "    'min_samples_split': [3, 5, 10]\n",
    "}"
   ]
  },
  {
   "cell_type": "code",
   "execution_count": null,
   "id": "69b9ac08",
   "metadata": {
    "execution": {
     "iopub.execute_input": "2025-03-03T17:41:28.649422Z",
     "iopub.status.busy": "2025-03-03T17:41:28.649121Z",
     "iopub.status.idle": "2025-03-03T17:41:28.653128Z",
     "shell.execute_reply": "2025-03-03T17:41:28.652090Z"
    },
    "papermill": {
     "duration": 0.064952,
     "end_time": "2025-03-03T17:41:28.654843",
     "exception": false,
     "start_time": "2025-03-03T17:41:28.589891",
     "status": "completed"
    },
    "tags": []
   },
   "outputs": [],
   "source": [
    "rfr_cv = GridSearchCV(RFR, param_grid_RFR, cv=5, scoring='neg_mean_squared_error', n_jobs=-1)"
   ]
  },
  {
   "cell_type": "code",
   "execution_count": null,
   "id": "e24ee524",
   "metadata": {
    "execution": {
     "iopub.execute_input": "2025-03-03T17:41:28.771783Z",
     "iopub.status.busy": "2025-03-03T17:41:28.771515Z",
     "iopub.status.idle": "2025-03-03T17:43:19.065844Z",
     "shell.execute_reply": "2025-03-03T17:43:19.064528Z"
    },
    "papermill": {
     "duration": 110.410937,
     "end_time": "2025-03-03T17:43:19.124105",
     "exception": false,
     "start_time": "2025-03-03T17:41:28.713168",
     "status": "completed"
    },
    "tags": []
   },
   "outputs": [],
   "source": [
    "rfr_cv.fit(X_train, y_train)"
   ]
  },
  {
   "cell_type": "code",
   "execution_count": null,
   "id": "aaed17d9",
   "metadata": {
    "execution": {
     "iopub.execute_input": "2025-03-03T17:43:19.244198Z",
     "iopub.status.busy": "2025-03-03T17:43:19.243807Z",
     "iopub.status.idle": "2025-03-03T17:43:19.249362Z",
     "shell.execute_reply": "2025-03-03T17:43:19.247993Z"
    },
    "papermill": {
     "duration": 0.067817,
     "end_time": "2025-03-03T17:43:19.251329",
     "exception": false,
     "start_time": "2025-03-03T17:43:19.183512",
     "status": "completed"
    },
    "tags": []
   },
   "outputs": [],
   "source": [
    "np.sqrt(-1 * rfr_cv.best_score_)"
   ]
  },
  {
   "cell_type": "code",
   "execution_count": null,
   "id": "748ecde7",
   "metadata": {
    "execution": {
     "iopub.execute_input": "2025-03-03T17:43:19.386416Z",
     "iopub.status.busy": "2025-03-03T17:43:19.386059Z",
     "iopub.status.idle": "2025-03-03T17:43:19.391953Z",
     "shell.execute_reply": "2025-03-03T17:43:19.391092Z"
    },
    "papermill": {
     "duration": 0.077954,
     "end_time": "2025-03-03T17:43:19.393159",
     "exception": false,
     "start_time": "2025-03-03T17:43:19.315205",
     "status": "completed"
    },
    "tags": []
   },
   "outputs": [],
   "source": [
    "rfr_cv.best_params_"
   ]
  },
  {
   "cell_type": "code",
   "execution_count": null,
   "id": "df600783",
   "metadata": {
    "execution": {
     "iopub.execute_input": "2025-03-03T17:43:19.510005Z",
     "iopub.status.busy": "2025-03-03T17:43:19.509743Z",
     "iopub.status.idle": "2025-03-03T17:43:19.513487Z",
     "shell.execute_reply": "2025-03-03T17:43:19.512804Z"
    },
    "papermill": {
     "duration": 0.063289,
     "end_time": "2025-03-03T17:43:19.515063",
     "exception": false,
     "start_time": "2025-03-03T17:43:19.451774",
     "status": "completed"
    },
    "tags": []
   },
   "outputs": [],
   "source": [
    "XGB = XGBRegressor(random_state=13)"
   ]
  },
  {
   "cell_type": "code",
   "execution_count": null,
   "id": "056c1ba0",
   "metadata": {
    "execution": {
     "iopub.execute_input": "2025-03-03T17:43:19.635382Z",
     "iopub.status.busy": "2025-03-03T17:43:19.635067Z",
     "iopub.status.idle": "2025-03-03T17:43:19.639961Z",
     "shell.execute_reply": "2025-03-03T17:43:19.638654Z"
    },
    "papermill": {
     "duration": 0.0679,
     "end_time": "2025-03-03T17:43:19.641704",
     "exception": false,
     "start_time": "2025-03-03T17:43:19.573804",
     "status": "completed"
    },
    "tags": []
   },
   "outputs": [],
   "source": [
    "param_grid_XGB = {\n",
    "    'learning_rate': [0.05, 0.1, 0.2],\n",
    "    'n_estimators': [300],\n",
    "    'max_depth': [3],\n",
    "    'min_child_weight': [1,2,3],\n",
    "    'gamma': [0, 0.1, 0.2],\n",
    "    'subsample': [0.8, 0.9, 1.0],\n",
    "    'colsample_bytree': [0.8, 0.9, 1.0],\n",
    "}"
   ]
  },
  {
   "cell_type": "code",
   "execution_count": null,
   "id": "18dfb542",
   "metadata": {
    "execution": {
     "iopub.execute_input": "2025-03-03T17:43:19.762602Z",
     "iopub.status.busy": "2025-03-03T17:43:19.762303Z",
     "iopub.status.idle": "2025-03-03T17:43:19.765996Z",
     "shell.execute_reply": "2025-03-03T17:43:19.765253Z"
    },
    "papermill": {
     "duration": 0.065657,
     "end_time": "2025-03-03T17:43:19.767348",
     "exception": false,
     "start_time": "2025-03-03T17:43:19.701691",
     "status": "completed"
    },
    "tags": []
   },
   "outputs": [],
   "source": [
    "xgb_cv = GridSearchCV(XGB, param_grid_XGB, cv=3, scoring='neg_mean_squared_error', n_jobs=-1)"
   ]
  },
  {
   "cell_type": "code",
   "execution_count": null,
   "id": "decdd406",
   "metadata": {
    "execution": {
     "iopub.execute_input": "2025-03-03T17:43:19.886800Z",
     "iopub.status.busy": "2025-03-03T17:43:19.886469Z",
     "iopub.status.idle": "2025-03-03T17:43:55.048586Z",
     "shell.execute_reply": "2025-03-03T17:43:55.047508Z"
    },
    "papermill": {
     "duration": 35.28242,
     "end_time": "2025-03-03T17:43:55.109323",
     "exception": false,
     "start_time": "2025-03-03T17:43:19.826903",
     "status": "completed"
    },
    "tags": []
   },
   "outputs": [],
   "source": [
    "xgb_cv.fit(X_train, y_train)"
   ]
  },
  {
   "cell_type": "code",
   "execution_count": null,
   "id": "0a34ad6f",
   "metadata": {
    "execution": {
     "iopub.execute_input": "2025-03-03T17:43:55.229513Z",
     "iopub.status.busy": "2025-03-03T17:43:55.229179Z",
     "iopub.status.idle": "2025-03-03T17:43:55.235037Z",
     "shell.execute_reply": "2025-03-03T17:43:55.234132Z"
    },
    "papermill": {
     "duration": 0.067716,
     "end_time": "2025-03-03T17:43:55.236653",
     "exception": false,
     "start_time": "2025-03-03T17:43:55.168937",
     "status": "completed"
    },
    "tags": []
   },
   "outputs": [],
   "source": [
    "np.sqrt(-1 * xgb_cv.best_score_)"
   ]
  },
  {
   "cell_type": "code",
   "execution_count": null,
   "id": "b290b891",
   "metadata": {
    "execution": {
     "iopub.execute_input": "2025-03-03T17:43:55.358793Z",
     "iopub.status.busy": "2025-03-03T17:43:55.358503Z",
     "iopub.status.idle": "2025-03-03T17:43:55.362805Z",
     "shell.execute_reply": "2025-03-03T17:43:55.361673Z"
    },
    "papermill": {
     "duration": 0.067194,
     "end_time": "2025-03-03T17:43:55.364774",
     "exception": false,
     "start_time": "2025-03-03T17:43:55.297580",
     "status": "completed"
    },
    "tags": []
   },
   "outputs": [],
   "source": [
    "ridge = Ridge()"
   ]
  },
  {
   "cell_type": "code",
   "execution_count": null,
   "id": "5a007700",
   "metadata": {
    "execution": {
     "iopub.execute_input": "2025-03-03T17:43:55.486775Z",
     "iopub.status.busy": "2025-03-03T17:43:55.486447Z",
     "iopub.status.idle": "2025-03-03T17:43:55.490587Z",
     "shell.execute_reply": "2025-03-03T17:43:55.489623Z"
    },
    "papermill": {
     "duration": 0.067521,
     "end_time": "2025-03-03T17:43:55.492192",
     "exception": false,
     "start_time": "2025-03-03T17:43:55.424671",
     "status": "completed"
    },
    "tags": []
   },
   "outputs": [],
   "source": [
    "param_grid_ridge = {\n",
    "    'alpha': [0.05, 0.1, 1, 3, 5, 10],\n",
    "    'solver': ['auto', 'svd', 'cholesky', 'lsqr', 'sparse_cg', 'sag']\n",
    "}"
   ]
  },
  {
   "cell_type": "code",
   "execution_count": null,
   "id": "dd25dfb0",
   "metadata": {
    "execution": {
     "iopub.execute_input": "2025-03-03T17:43:55.615320Z",
     "iopub.status.busy": "2025-03-03T17:43:55.614974Z",
     "iopub.status.idle": "2025-03-03T17:43:55.618939Z",
     "shell.execute_reply": "2025-03-03T17:43:55.618092Z"
    },
    "papermill": {
     "duration": 0.06535,
     "end_time": "2025-03-03T17:43:55.620175",
     "exception": false,
     "start_time": "2025-03-03T17:43:55.554825",
     "status": "completed"
    },
    "tags": []
   },
   "outputs": [],
   "source": [
    "ridge_cv = GridSearchCV(ridge, param_grid_ridge, cv=5, scoring='neg_mean_squared_error', n_jobs=-1)"
   ]
  },
  {
   "cell_type": "code",
   "execution_count": null,
   "id": "9c0ab4e1",
   "metadata": {
    "execution": {
     "iopub.execute_input": "2025-03-03T17:43:55.797849Z",
     "iopub.status.busy": "2025-03-03T17:43:55.797544Z",
     "iopub.status.idle": "2025-03-03T17:44:10.366435Z",
     "shell.execute_reply": "2025-03-03T17:44:10.365208Z"
    },
    "papermill": {
     "duration": 14.6312,
     "end_time": "2025-03-03T17:44:10.367680",
     "exception": false,
     "start_time": "2025-03-03T17:43:55.736480",
     "status": "completed"
    },
    "tags": []
   },
   "outputs": [],
   "source": [
    "ridge_cv.fit(X_train, y_train)"
   ]
  },
  {
   "cell_type": "code",
   "execution_count": null,
   "id": "d4190102",
   "metadata": {
    "execution": {
     "iopub.execute_input": "2025-03-03T17:44:10.489032Z",
     "iopub.status.busy": "2025-03-03T17:44:10.488611Z",
     "iopub.status.idle": "2025-03-03T17:44:10.494025Z",
     "shell.execute_reply": "2025-03-03T17:44:10.493313Z"
    },
    "papermill": {
     "duration": 0.066377,
     "end_time": "2025-03-03T17:44:10.495937",
     "exception": false,
     "start_time": "2025-03-03T17:44:10.429560",
     "status": "completed"
    },
    "tags": []
   },
   "outputs": [],
   "source": [
    "np.sqrt(-1 * ridge_cv.best_score_)"
   ]
  },
  {
   "cell_type": "code",
   "execution_count": null,
   "id": "b69d022c",
   "metadata": {
    "execution": {
     "iopub.execute_input": "2025-03-03T17:44:10.618664Z",
     "iopub.status.busy": "2025-03-03T17:44:10.618357Z",
     "iopub.status.idle": "2025-03-03T17:44:10.622792Z",
     "shell.execute_reply": "2025-03-03T17:44:10.621487Z"
    },
    "papermill": {
     "duration": 0.067516,
     "end_time": "2025-03-03T17:44:10.624462",
     "exception": false,
     "start_time": "2025-03-03T17:44:10.556946",
     "status": "completed"
    },
    "tags": []
   },
   "outputs": [],
   "source": [
    "GBR = GradientBoostingRegressor()"
   ]
  },
  {
   "cell_type": "code",
   "execution_count": null,
   "id": "ffd1aea3",
   "metadata": {
    "execution": {
     "iopub.execute_input": "2025-03-03T17:44:10.744170Z",
     "iopub.status.busy": "2025-03-03T17:44:10.743896Z",
     "iopub.status.idle": "2025-03-03T17:44:10.748509Z",
     "shell.execute_reply": "2025-03-03T17:44:10.747344Z"
    },
    "papermill": {
     "duration": 0.066226,
     "end_time": "2025-03-03T17:44:10.750145",
     "exception": false,
     "start_time": "2025-03-03T17:44:10.683919",
     "status": "completed"
    },
    "tags": []
   },
   "outputs": [],
   "source": [
    "param_grid_GBR = {\n",
    "    'max_depth': [12, 15, 20],\n",
    "    'n_estimators': [200, 300, 1000],\n",
    "    'min_samples_leaf': [10, 25, 50],\n",
    "    'learning_rate': [0.001, 0.01, 0.1],\n",
    "    'max_features': [0.01, 0.1, 0.7]\n",
    "}"
   ]
  },
  {
   "cell_type": "code",
   "execution_count": null,
   "id": "6404f13c",
   "metadata": {
    "execution": {
     "iopub.execute_input": "2025-03-03T17:44:10.871110Z",
     "iopub.status.busy": "2025-03-03T17:44:10.870843Z",
     "iopub.status.idle": "2025-03-03T17:44:10.875126Z",
     "shell.execute_reply": "2025-03-03T17:44:10.873860Z"
    },
    "papermill": {
     "duration": 0.066202,
     "end_time": "2025-03-03T17:44:10.876918",
     "exception": false,
     "start_time": "2025-03-03T17:44:10.810716",
     "status": "completed"
    },
    "tags": []
   },
   "outputs": [],
   "source": [
    "GBR_cv = GridSearchCV(GBR, param_grid_GBR, cv=5, scoring='neg_mean_squared_error', n_jobs=-1)"
   ]
  },
  {
   "cell_type": "code",
   "execution_count": null,
   "id": "aa0923ca",
   "metadata": {
    "execution": {
     "iopub.execute_input": "2025-03-03T17:44:10.995076Z",
     "iopub.status.busy": "2025-03-03T17:44:10.994801Z",
     "iopub.status.idle": "2025-03-03T17:54:42.036609Z",
     "shell.execute_reply": "2025-03-03T17:54:42.035373Z"
    },
    "papermill": {
     "duration": 631.164656,
     "end_time": "2025-03-03T17:54:42.099960",
     "exception": false,
     "start_time": "2025-03-03T17:44:10.935304",
     "status": "completed"
    },
    "tags": []
   },
   "outputs": [],
   "source": [
    "GBR_cv.fit(X_train, y_train)"
   ]
  },
  {
   "cell_type": "code",
   "execution_count": null,
   "id": "25f450a4",
   "metadata": {
    "execution": {
     "iopub.execute_input": "2025-03-03T17:54:42.244679Z",
     "iopub.status.busy": "2025-03-03T17:54:42.244324Z",
     "iopub.status.idle": "2025-03-03T17:54:42.250452Z",
     "shell.execute_reply": "2025-03-03T17:54:42.249108Z"
    },
    "papermill": {
     "duration": 0.076655,
     "end_time": "2025-03-03T17:54:42.252354",
     "exception": false,
     "start_time": "2025-03-03T17:54:42.175699",
     "status": "completed"
    },
    "tags": []
   },
   "outputs": [],
   "source": [
    "np.sqrt(-1 * GBR_cv.best_score_)"
   ]
  },
  {
   "cell_type": "code",
   "execution_count": null,
   "id": "76582a55",
   "metadata": {
    "execution": {
     "iopub.execute_input": "2025-03-03T17:54:42.389848Z",
     "iopub.status.busy": "2025-03-03T17:54:42.389523Z",
     "iopub.status.idle": "2025-03-03T17:54:42.392966Z",
     "shell.execute_reply": "2025-03-03T17:54:42.392340Z"
    },
    "papermill": {
     "duration": 0.075135,
     "end_time": "2025-03-03T17:54:42.394180",
     "exception": false,
     "start_time": "2025-03-03T17:54:42.319045",
     "status": "completed"
    },
    "tags": []
   },
   "outputs": [],
   "source": [
    "lgbm_regressor = lgb.LGBMRegressor()"
   ]
  },
  {
   "cell_type": "code",
   "execution_count": null,
   "id": "4cb827fa",
   "metadata": {
    "execution": {
     "iopub.execute_input": "2025-03-03T17:54:42.523888Z",
     "iopub.status.busy": "2025-03-03T17:54:42.523529Z",
     "iopub.status.idle": "2025-03-03T17:54:42.527989Z",
     "shell.execute_reply": "2025-03-03T17:54:42.527121Z"
    },
    "papermill": {
     "duration": 0.071487,
     "end_time": "2025-03-03T17:54:42.529902",
     "exception": false,
     "start_time": "2025-03-03T17:54:42.458415",
     "status": "completed"
    },
    "tags": []
   },
   "outputs": [],
   "source": [
    "param_grid_lgbm = {\n",
    "    'boosting_type': ['gbdt', 'dart'],\n",
    "    'num_leaves': [20, 30, 40],\n",
    "    'learning_rate': [0.01, 0.05, 0.1],\n",
    "    'n_estimators': [100, 200, 300]\n",
    "}"
   ]
  },
  {
   "cell_type": "code",
   "execution_count": null,
   "id": "07a298ba",
   "metadata": {
    "execution": {
     "iopub.execute_input": "2025-03-03T17:54:42.653924Z",
     "iopub.status.busy": "2025-03-03T17:54:42.653525Z",
     "iopub.status.idle": "2025-03-03T17:54:42.657860Z",
     "shell.execute_reply": "2025-03-03T17:54:42.656790Z"
    },
    "papermill": {
     "duration": 0.067098,
     "end_time": "2025-03-03T17:54:42.659529",
     "exception": false,
     "start_time": "2025-03-03T17:54:42.592431",
     "status": "completed"
    },
    "tags": []
   },
   "outputs": [],
   "source": [
    "lgbm_cv = GridSearchCV(lgbm_regressor, param_grid_lgbm, cv=3, scoring='neg_mean_squared_error', n_jobs=-1)"
   ]
  },
  {
   "cell_type": "code",
   "execution_count": null,
   "id": "213af5cb",
   "metadata": {
    "execution": {
     "iopub.execute_input": "2025-03-03T17:54:42.783105Z",
     "iopub.status.busy": "2025-03-03T17:54:42.782838Z",
     "iopub.status.idle": "2025-03-03T17:55:44.485007Z",
     "shell.execute_reply": "2025-03-03T17:55:44.484203Z"
    },
    "papermill": {
     "duration": 61.826831,
     "end_time": "2025-03-03T17:55:44.546897",
     "exception": false,
     "start_time": "2025-03-03T17:54:42.720066",
     "status": "completed"
    },
    "tags": []
   },
   "outputs": [],
   "source": [
    "lgbm_cv.fit(X_train, y_train)"
   ]
  },
  {
   "cell_type": "code",
   "execution_count": null,
   "id": "a698926d",
   "metadata": {
    "execution": {
     "iopub.execute_input": "2025-03-03T17:55:44.667303Z",
     "iopub.status.busy": "2025-03-03T17:55:44.666937Z",
     "iopub.status.idle": "2025-03-03T17:55:44.673163Z",
     "shell.execute_reply": "2025-03-03T17:55:44.672136Z"
    },
    "papermill": {
     "duration": 0.068117,
     "end_time": "2025-03-03T17:55:44.674653",
     "exception": false,
     "start_time": "2025-03-03T17:55:44.606536",
     "status": "completed"
    },
    "tags": []
   },
   "outputs": [],
   "source": [
    "np.sqrt(-1 * lgbm_cv.best_score_)"
   ]
  },
  {
   "cell_type": "code",
   "execution_count": null,
   "id": "e3c30d95",
   "metadata": {
    "execution": {
     "iopub.execute_input": "2025-03-03T17:55:44.796998Z",
     "iopub.status.busy": "2025-03-03T17:55:44.796690Z",
     "iopub.status.idle": "2025-03-03T17:55:44.812899Z",
     "shell.execute_reply": "2025-03-03T17:55:44.811339Z"
    },
    "papermill": {
     "duration": 0.079609,
     "end_time": "2025-03-03T17:55:44.814882",
     "exception": false,
     "start_time": "2025-03-03T17:55:44.735273",
     "status": "completed"
    },
    "tags": []
   },
   "outputs": [],
   "source": [
    "catboost = CatBoostRegressor(loss_function='RMSE', verbose=False)"
   ]
  },
  {
   "cell_type": "code",
   "execution_count": null,
   "id": "f538edbb",
   "metadata": {
    "execution": {
     "iopub.execute_input": "2025-03-03T17:55:44.937324Z",
     "iopub.status.busy": "2025-03-03T17:55:44.936998Z",
     "iopub.status.idle": "2025-03-03T17:55:44.942100Z",
     "shell.execute_reply": "2025-03-03T17:55:44.940521Z"
    },
    "papermill": {
     "duration": 0.068844,
     "end_time": "2025-03-03T17:55:44.944149",
     "exception": false,
     "start_time": "2025-03-03T17:55:44.875305",
     "status": "completed"
    },
    "tags": []
   },
   "outputs": [],
   "source": [
    "param_grid_cat ={\n",
    "    'iterations': [100, 500, 1000],\n",
    "    'depth': [4, 6, 8, 10],\n",
    "    'learning_rate': [0.01, 0.05, 0.1, 0.5]\n",
    "}"
   ]
  },
  {
   "cell_type": "code",
   "execution_count": null,
   "id": "3dca6725",
   "metadata": {
    "execution": {
     "iopub.execute_input": "2025-03-03T17:55:45.080034Z",
     "iopub.status.busy": "2025-03-03T17:55:45.079593Z",
     "iopub.status.idle": "2025-03-03T17:55:45.084331Z",
     "shell.execute_reply": "2025-03-03T17:55:45.083382Z"
    },
    "papermill": {
     "duration": 0.079201,
     "end_time": "2025-03-03T17:55:45.085765",
     "exception": false,
     "start_time": "2025-03-03T17:55:45.006564",
     "status": "completed"
    },
    "tags": []
   },
   "outputs": [],
   "source": [
    "cat_cv = GridSearchCV(catboost, param_grid_cat, cv=3, scoring='neg_mean_squared_error', n_jobs=-1)"
   ]
  },
  {
   "cell_type": "code",
   "execution_count": null,
   "id": "b073c3fb",
   "metadata": {
    "execution": {
     "iopub.execute_input": "2025-03-03T17:55:45.247278Z",
     "iopub.status.busy": "2025-03-03T17:55:45.246860Z",
     "iopub.status.idle": "2025-03-03T18:01:10.124820Z",
     "shell.execute_reply": "2025-03-03T18:01:10.123624Z"
    },
    "papermill": {
     "duration": 325.010813,
     "end_time": "2025-03-03T18:01:10.189381",
     "exception": false,
     "start_time": "2025-03-03T17:55:45.178568",
     "status": "completed"
    },
    "tags": []
   },
   "outputs": [],
   "source": [
    "cat_cv.fit(X_train, y_train)"
   ]
  },
  {
   "cell_type": "code",
   "execution_count": null,
   "id": "ff2512a4",
   "metadata": {
    "execution": {
     "iopub.execute_input": "2025-03-03T18:01:10.310756Z",
     "iopub.status.busy": "2025-03-03T18:01:10.310447Z",
     "iopub.status.idle": "2025-03-03T18:01:10.315161Z",
     "shell.execute_reply": "2025-03-03T18:01:10.314395Z"
    },
    "papermill": {
     "duration": 0.067729,
     "end_time": "2025-03-03T18:01:10.316815",
     "exception": false,
     "start_time": "2025-03-03T18:01:10.249086",
     "status": "completed"
    },
    "tags": []
   },
   "outputs": [],
   "source": [
    "np.sqrt(-1 * cat_cv.best_score_)\n"
   ]
  },
  {
   "cell_type": "code",
   "execution_count": null,
   "id": "8176132a",
   "metadata": {
    "execution": {
     "iopub.execute_input": "2025-03-03T18:01:10.441139Z",
     "iopub.status.busy": "2025-03-03T18:01:10.440807Z",
     "iopub.status.idle": "2025-03-03T18:01:10.445655Z",
     "shell.execute_reply": "2025-03-03T18:01:10.444348Z"
    },
    "papermill": {
     "duration": 0.069148,
     "end_time": "2025-03-03T18:01:10.447471",
     "exception": false,
     "start_time": "2025-03-03T18:01:10.378323",
     "status": "completed"
    },
    "tags": []
   },
   "outputs": [],
   "source": [
    "vr = VotingRegressor([('gbr', GBR_cv.best_estimator_),\n",
    "                      ('xgb', xgb_cv.best_estimator_),\n",
    "                      ('ridge', ridge_cv.best_estimator_)],\n",
    "                    weights=[2,3,1])"
   ]
  },
  {
   "cell_type": "code",
   "execution_count": null,
   "id": "76bcf9a4",
   "metadata": {
    "execution": {
     "iopub.execute_input": "2025-03-03T18:01:10.575188Z",
     "iopub.status.busy": "2025-03-03T18:01:10.574862Z",
     "iopub.status.idle": "2025-03-03T18:01:12.627728Z",
     "shell.execute_reply": "2025-03-03T18:01:12.626333Z"
    },
    "papermill": {
     "duration": 2.119944,
     "end_time": "2025-03-03T18:01:12.629491",
     "exception": false,
     "start_time": "2025-03-03T18:01:10.509547",
     "status": "completed"
    },
    "tags": []
   },
   "outputs": [],
   "source": [
    "vr.fit(X_train, y_train)"
   ]
  },
  {
   "cell_type": "code",
   "execution_count": null,
   "id": "3913b9a6",
   "metadata": {
    "execution": {
     "iopub.execute_input": "2025-03-03T18:01:12.755670Z",
     "iopub.status.busy": "2025-03-03T18:01:12.755296Z",
     "iopub.status.idle": "2025-03-03T18:01:12.777851Z",
     "shell.execute_reply": "2025-03-03T18:01:12.777215Z"
    },
    "papermill": {
     "duration": 0.087898,
     "end_time": "2025-03-03T18:01:12.779376",
     "exception": false,
     "start_time": "2025-03-03T18:01:12.691478",
     "status": "completed"
    },
    "tags": []
   },
   "outputs": [],
   "source": [
    "y_pred_vr = vr.predict(X_test)"
   ]
  },
  {
   "cell_type": "code",
   "execution_count": null,
   "id": "bd17acb8",
   "metadata": {
    "execution": {
     "iopub.execute_input": "2025-03-03T18:01:12.906555Z",
     "iopub.status.busy": "2025-03-03T18:01:12.906188Z",
     "iopub.status.idle": "2025-03-03T18:01:12.911966Z",
     "shell.execute_reply": "2025-03-03T18:01:12.911112Z"
    },
    "papermill": {
     "duration": 0.070481,
     "end_time": "2025-03-03T18:01:12.913534",
     "exception": false,
     "start_time": "2025-03-03T18:01:12.843053",
     "status": "completed"
    },
    "tags": []
   },
   "outputs": [],
   "source": [
    "mean_squared_error(y_test, y_pred_vr, squared=False)"
   ]
  },
  {
   "cell_type": "code",
   "execution_count": null,
   "id": "fdfbc674",
   "metadata": {
    "execution": {
     "iopub.execute_input": "2025-03-03T18:01:13.046414Z",
     "iopub.status.busy": "2025-03-03T18:01:13.046031Z",
     "iopub.status.idle": "2025-03-03T18:01:13.050608Z",
     "shell.execute_reply": "2025-03-03T18:01:13.049636Z"
    },
    "papermill": {
     "duration": 0.075792,
     "end_time": "2025-03-03T18:01:13.052331",
     "exception": false,
     "start_time": "2025-03-03T18:01:12.976539",
     "status": "completed"
    },
    "tags": []
   },
   "outputs": [],
   "source": [
    "estimators = [\n",
    "    ('gbr', GBR_cv.best_estimator_),\n",
    "    ('xgb', xgb_cv.best_estimator_),\n",
    "    ('cat', cat_cv.best_estimator_),\n",
    "    ('lgb', lgbm_cv.best_estimator_),\n",
    "    ('rfr', rfr_cv.best_estimator_),\n",
    "]"
   ]
  },
  {
   "cell_type": "code",
   "execution_count": null,
   "id": "fef29857",
   "metadata": {
    "execution": {
     "iopub.execute_input": "2025-03-03T18:01:13.176508Z",
     "iopub.status.busy": "2025-03-03T18:01:13.176149Z",
     "iopub.status.idle": "2025-03-03T18:01:13.180547Z",
     "shell.execute_reply": "2025-03-03T18:01:13.179300Z"
    },
    "papermill": {
     "duration": 0.068406,
     "end_time": "2025-03-03T18:01:13.182321",
     "exception": false,
     "start_time": "2025-03-03T18:01:13.113915",
     "status": "completed"
    },
    "tags": []
   },
   "outputs": [],
   "source": [
    "stackreg = StackingRegressor(\n",
    "            estimators = estimators,\n",
    "            final_estimator = vr\n",
    ")"
   ]
  },
  {
   "cell_type": "code",
   "execution_count": null,
   "id": "58d8e648",
   "metadata": {
    "execution": {
     "iopub.execute_input": "2025-03-03T18:01:13.377321Z",
     "iopub.status.busy": "2025-03-03T18:01:13.376976Z",
     "iopub.status.idle": "2025-03-03T18:02:02.156167Z",
     "shell.execute_reply": "2025-03-03T18:02:02.154898Z"
    },
    "papermill": {
     "duration": 48.904973,
     "end_time": "2025-03-03T18:02:02.219350",
     "exception": false,
     "start_time": "2025-03-03T18:01:13.314377",
     "status": "completed"
    },
    "tags": []
   },
   "outputs": [],
   "source": [
    "stackreg.fit(X_train, y_train)"
   ]
  },
  {
   "cell_type": "code",
   "execution_count": null,
   "id": "1bf9940d",
   "metadata": {
    "execution": {
     "iopub.execute_input": "2025-03-03T18:02:02.350585Z",
     "iopub.status.busy": "2025-03-03T18:02:02.350266Z",
     "iopub.status.idle": "2025-03-03T18:02:02.435832Z",
     "shell.execute_reply": "2025-03-03T18:02:02.435212Z"
    },
    "papermill": {
     "duration": 0.150913,
     "end_time": "2025-03-03T18:02:02.437529",
     "exception": false,
     "start_time": "2025-03-03T18:02:02.286616",
     "status": "completed"
    },
    "tags": []
   },
   "outputs": [],
   "source": [
    "y_pred_stack = stackreg.predict(X_test)\n"
   ]
  },
  {
   "cell_type": "code",
   "execution_count": null,
   "id": "a16d843d",
   "metadata": {
    "execution": {
     "iopub.execute_input": "2025-03-03T18:02:02.563161Z",
     "iopub.status.busy": "2025-03-03T18:02:02.562814Z",
     "iopub.status.idle": "2025-03-03T18:02:02.569669Z",
     "shell.execute_reply": "2025-03-03T18:02:02.568298Z"
    },
    "papermill": {
     "duration": 0.071565,
     "end_time": "2025-03-03T18:02:02.571403",
     "exception": false,
     "start_time": "2025-03-03T18:02:02.499838",
     "status": "completed"
    },
    "tags": []
   },
   "outputs": [],
   "source": [
    "mean_squared_error(y_test, y_pred_stack, squared=False)"
   ]
  },
  {
   "cell_type": "code",
   "execution_count": null,
   "id": "f1a125f5",
   "metadata": {
    "execution": {
     "iopub.execute_input": "2025-03-03T18:02:02.696040Z",
     "iopub.status.busy": "2025-03-03T18:02:02.695716Z",
     "iopub.status.idle": "2025-03-03T18:02:02.735829Z",
     "shell.execute_reply": "2025-03-03T18:02:02.734394Z"
    },
    "papermill": {
     "duration": 0.104287,
     "end_time": "2025-03-03T18:02:02.737778",
     "exception": false,
     "start_time": "2025-03-03T18:02:02.633491",
     "status": "completed"
    },
    "tags": []
   },
   "outputs": [],
   "source": [
    "df_test_preprocess = pipeline.transform(test_df)"
   ]
  },
  {
   "cell_type": "code",
   "execution_count": null,
   "id": "e8aaaa8f",
   "metadata": {
    "execution": {
     "iopub.execute_input": "2025-03-03T18:02:02.866419Z",
     "iopub.status.busy": "2025-03-03T18:02:02.866082Z",
     "iopub.status.idle": "2025-03-03T18:02:03.170100Z",
     "shell.execute_reply": "2025-03-03T18:02:03.169146Z"
    },
    "papermill": {
     "duration": 0.369718,
     "end_time": "2025-03-03T18:02:03.171910",
     "exception": false,
     "start_time": "2025-03-03T18:02:02.802192",
     "status": "completed"
    },
    "tags": []
   },
   "outputs": [],
   "source": [
    "y_stacking = np.exp(stackreg.predict(df_test_preprocess))\n",
    "\n",
    "df_y_stacking_out = test_df[['Id']]\n",
    "df_y_stacking_out['SalePrice'] = y_stacking\n",
    "\n",
    "df_y_stacking_out.to_csv('submission.csv', index=False)"
   ]
  },
  {
   "cell_type": "code",
   "execution_count": null,
   "id": "1837e0d3",
   "metadata": {
    "papermill": {
     "duration": 0.06383,
     "end_time": "2025-03-03T18:02:03.297664",
     "exception": false,
     "start_time": "2025-03-03T18:02:03.233834",
     "status": "completed"
    },
    "tags": []
   },
   "outputs": [],
   "source": []
  }
 ],
 "metadata": {
  "kaggle": {
   "accelerator": "none",
   "dataSources": [
    {
     "databundleVersionId": 868283,
     "sourceId": 5407,
     "sourceType": "competition"
    }
   ],
   "dockerImageVersionId": 30918,
   "isGpuEnabled": false,
   "isInternetEnabled": true,
   "language": "python",
   "sourceType": "notebook"
  },
  "kernelspec": {
   "display_name": "base",
   "language": "python",
   "name": "python3"
  },
  "language_info": {
   "codemirror_mode": {
    "name": "ipython",
    "version": 3
   },
   "file_extension": ".py",
   "mimetype": "text/x-python",
   "name": "python",
   "nbconvert_exporter": "python",
   "pygments_lexer": "ipython3",
   "version": "3.11.5"
  },
  "papermill": {
   "default_parameters": {},
   "duration": 1274.571528,
   "end_time": "2025-03-03T18:02:06.046436",
   "environment_variables": {},
   "exception": null,
   "input_path": "__notebook__.ipynb",
   "output_path": "__notebook__.ipynb",
   "parameters": {},
   "start_time": "2025-03-03T17:40:51.474908",
   "version": "2.6.0"
  }
 },
 "nbformat": 4,
 "nbformat_minor": 5
}
