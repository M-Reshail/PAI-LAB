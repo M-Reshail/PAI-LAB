{
 "cells": [
  {
   "cell_type": "code",
   "execution_count": 1,
   "metadata": {},
   "outputs": [
    {
     "name": "stdout",
     "output_type": "stream",
     "text": [
      ". Q . . . .\n",
      ". . . Q . .\n",
      ". . . . . Q\n",
      "Q . . . . .\n",
      ". . Q . . .\n",
      ". . . . Q .\n",
      "\n",
      "\n",
      ". . Q . . .\n",
      ". . . . . Q\n",
      ". Q . . . .\n",
      ". . . . Q .\n",
      "Q . . . . .\n",
      ". . . Q . .\n",
      "\n",
      "\n",
      ". . . Q . .\n",
      "Q . . . . .\n",
      ". . . . Q .\n",
      ". Q . . . .\n",
      ". . . . . Q\n",
      ". . Q . . .\n",
      "\n",
      "\n",
      ". . . . Q .\n",
      ". . Q . . .\n",
      "Q . . . . .\n",
      ". . . . . Q\n",
      ". . . Q . .\n",
      ". Q . . . .\n",
      "\n",
      "\n"
     ]
    }
   ],
   "source": [
    "def print_board(board):\n",
    "    for row in board:\n",
    "        print(\" \".join(row))\n",
    "    print(\"\\n\")\n",
    "\n",
    "def is_safe(board, row, col, n):\n",
    "    for i in range(row):\n",
    "        if board[i][col] == 'Q':\n",
    "            return False\n",
    "\n",
    "    for i, j in zip(range(row, -1, -1), range(col, -1, -1)):\n",
    "        if board[i][j] == 'Q':\n",
    "            return False\n",
    "\n",
    "    for i, j in zip(range(row, -1, -1), range(col, n)):\n",
    "        if board[i][j] == 'Q':\n",
    "            return False\n",
    "\n",
    "    return True\n",
    "\n",
    "def solve_n_queens(board, row, n):\n",
    "    if row == n:\n",
    "        print_board(board) \n",
    "        return\n",
    "\n",
    "    for col in range(n):\n",
    "        if is_safe(board, row, col, n):\n",
    "            board[row][col] = 'Q'  \n",
    "            solve_n_queens(board, row + 1, n)  \n",
    "            board[row][col] = '.'  \n",
    "\n",
    "def n_queens(n):\n",
    "    board = [[\".\"] * n for _ in range(n)]\n",
    "    solve_n_queens(board, 0, n)\n",
    "\n",
    "n = int(input(\"Enter the number of queens (N): \"))\n",
    "n_queens(n)\n"
   ]
  },
  {
   "cell_type": "code",
   "execution_count": null,
   "metadata": {},
   "outputs": [],
   "source": []
  }
 ],
 "metadata": {
  "kernelspec": {
   "display_name": "base",
   "language": "python",
   "name": "python3"
  },
  "language_info": {
   "codemirror_mode": {
    "name": "ipython",
    "version": 3
   },
   "file_extension": ".py",
   "mimetype": "text/x-python",
   "name": "python",
   "nbconvert_exporter": "python",
   "pygments_lexer": "ipython3",
   "version": "3.11.5"
  }
 },
 "nbformat": 4,
 "nbformat_minor": 2
}
